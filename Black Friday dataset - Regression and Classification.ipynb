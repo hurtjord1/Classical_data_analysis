{
 "cells": [
  {
   "cell_type": "markdown",
   "metadata": {},
   "source": [
    "# Black Friday: predicting purchase amounts"
   ]
  },
  {
   "cell_type": "markdown",
   "metadata": {},
   "source": [
    "### Classical Data Analysis Final Project on Regression and Classification\n",
    "#### Jordi Hurtado, Annalaura Ianiro, Benjamin Wein"
   ]
  },
  {
   "cell_type": "code",
   "execution_count": 33,
   "metadata": {},
   "outputs": [],
   "source": [
    "#Starting with the basic imports\n",
    "import pandas as pd\n",
    "import matplotlib.pyplot as plt\n",
    "import seaborn as sns\n",
    "import numpy as np\n",
    "%matplotlib inline"
   ]
  },
  {
   "cell_type": "code",
   "execution_count": 2,
   "metadata": {},
   "outputs": [],
   "source": [
    "import warnings\n",
    "warnings.filterwarnings(\"ignore\")"
   ]
  },
  {
   "cell_type": "markdown",
   "metadata": {},
   "source": [
    "The Black Friday dataset is a sample of the transactions made in a retail store. The store wants to know better the customer purchase behaviour against different products. Specifically, here the problem is a regression problem, where we are trying to predict the dependent variable (the amount of purchase) with the help of the information contained in the other variables. The dataset comes from a competition hosted by Analytics Vidhya."
   ]
  },
  {
   "cell_type": "code",
   "execution_count": 3,
   "metadata": {},
   "outputs": [],
   "source": [
    "bf=pd.read_csv('BlackFriday.csv')"
   ]
  },
  {
   "cell_type": "markdown",
   "metadata": {},
   "source": [
    "The variables in the dataset are the following:"
   ]
  },
  {
   "cell_type": "code",
   "execution_count": 4,
   "metadata": {},
   "outputs": [
    {
     "name": "stdout",
     "output_type": "stream",
     "text": [
      "<class 'pandas.core.frame.DataFrame'>\n",
      "RangeIndex: 537577 entries, 0 to 537576\n",
      "Data columns (total 12 columns):\n",
      "User_ID                       537577 non-null int64\n",
      "Product_ID                    537577 non-null object\n",
      "Gender                        537577 non-null object\n",
      "Age                           537577 non-null object\n",
      "Occupation                    537577 non-null int64\n",
      "City_Category                 537577 non-null object\n",
      "Stay_In_Current_City_Years    537577 non-null object\n",
      "Marital_Status                537577 non-null int64\n",
      "Product_Category_1            537577 non-null int64\n",
      "Product_Category_2            370591 non-null float64\n",
      "Product_Category_3            164278 non-null float64\n",
      "Purchase                      537577 non-null int64\n",
      "dtypes: float64(2), int64(5), object(5)\n",
      "memory usage: 49.2+ MB\n"
     ]
    }
   ],
   "source": [
    "bf.info()"
   ]
  },
  {
   "cell_type": "markdown",
   "metadata": {},
   "source": [
    "User_ID: Id of the user\n",
    "\n",
    "Product_ID: Id of the purchased product\n",
    "\n",
    "Gender: Boolean variable\n",
    "\n",
    "Age: Age classes of the customers\n",
    "\n",
    "Occupation Id: Id of the occupation of each customer\n",
    "\n",
    "City_Category: Category of the city the customer is in \n",
    "\n",
    "Stay_In_Current_City_Years: time in classes of the cutomer's permanence in the current city\n",
    "\n",
    "Marital_Status: Binary Variable\n",
    "\n",
    "Product_Category_1: categorical variable\n",
    "\n",
    "Product_Category_2\n",
    "\n",
    "Product_Category_3\n",
    "\n",
    "Purchase: Purchase amount in dollars"
   ]
  },
  {
   "cell_type": "markdown",
   "metadata": {},
   "source": [
    "Unfortunately, we do not have much information about the meaning of the variables. We do not know what the different product categories stands for, nor the occupation IDs. Same goes for the city category. For this reason, any deeper interpretation of these variables is almost impossible to do. It complicates the feature engineering work, since we cannot rely too much on common sense logic to try to make initial assosiations among variables. "
   ]
  },
  {
   "cell_type": "markdown",
   "metadata": {},
   "source": [
    "## EDA"
   ]
  },
  {
   "cell_type": "markdown",
   "metadata": {},
   "source": [
    "Our dataset, except for the target variable, is made of categorical variables. We need to convert the data type of the variables which are supposed to be categorical but are not read as such."
   ]
  },
  {
   "cell_type": "markdown",
   "metadata": {},
   "source": [
    "First, however, we will look at the product categories features: Product_Category_1, Product_Category_2 and Product_Category_3. As it can be see above, from the command bf.info(), these last two varaiables are the only containing NaN. Let's deep dive a little into them:"
   ]
  },
  {
   "cell_type": "code",
   "execution_count": 5,
   "metadata": {},
   "outputs": [
    {
     "data": {
      "text/plain": [
       "5     0.276411\n",
       "1     0.257364\n",
       "8     0.208588\n",
       "11    0.044570\n",
       "2     0.043713\n",
       "6     0.037509\n",
       "3     0.036923\n",
       "4     0.021517\n",
       "16    0.018038\n",
       "15    0.011539\n",
       "13    0.010119\n",
       "10    0.009361\n",
       "12    0.007208\n",
       "7     0.006823\n",
       "18    0.005720\n",
       "14    0.002790\n",
       "17    0.001055\n",
       "9     0.000752\n",
       "Name: Product_Category_1, dtype: float64"
      ]
     },
     "execution_count": 5,
     "metadata": {},
     "output_type": "execute_result"
    }
   ],
   "source": [
    "bf['Product_Category_1'].value_counts(normalize=True)"
   ]
  },
  {
   "cell_type": "code",
   "execution_count": 6,
   "metadata": {},
   "outputs": [
    {
     "data": {
      "text/plain": [
       "8.0     0.170155\n",
       "14.0    0.146140\n",
       "2.0     0.130821\n",
       "16.0    0.114957\n",
       "15.0    0.100696\n",
       "5.0     0.069818\n",
       "4.0     0.068067\n",
       "6.0     0.043852\n",
       "11.0    0.037629\n",
       "17.0    0.035430\n",
       "13.0    0.027980\n",
       "9.0     0.015087\n",
       "12.0    0.014623\n",
       "10.0    0.008071\n",
       "3.0     0.007650\n",
       "18.0    0.007367\n",
       "7.0     0.001660\n",
       "Name: Product_Category_2, dtype: float64"
      ]
     },
     "execution_count": 6,
     "metadata": {},
     "output_type": "execute_result"
    }
   ],
   "source": [
    "bf['Product_Category_2'].value_counts(normalize=True)"
   ]
  },
  {
   "cell_type": "code",
   "execution_count": 7,
   "metadata": {},
   "outputs": [
    {
     "data": {
      "text/plain": [
       "16.0    0.195693\n",
       "15.0    0.168075\n",
       "14.0    0.110307\n",
       "17.0    0.100129\n",
       "5.0     0.099709\n",
       "8.0     0.075384\n",
       "9.0     0.069480\n",
       "12.0    0.055357\n",
       "13.0    0.032780\n",
       "6.0     0.029328\n",
       "18.0    0.027776\n",
       "4.0     0.011201\n",
       "11.0    0.010793\n",
       "10.0    0.010336\n",
       "3.0     0.003652\n",
       "Name: Product_Category_3, dtype: float64"
      ]
     },
     "execution_count": 7,
     "metadata": {},
     "output_type": "execute_result"
    }
   ],
   "source": [
    "bf['Product_Category_3'].value_counts(normalize=True)"
   ]
  },
  {
   "cell_type": "code",
   "execution_count": 8,
   "metadata": {},
   "outputs": [
    {
     "name": "stdout",
     "output_type": "stream",
     "text": [
      "Percentage of NaN values in Product_Category_2: 0.31\n",
      "Percentage of NaN values in Product_Category_3: 0.69\n"
     ]
    }
   ],
   "source": [
    "print('Percentage of NaN values in Product_Category_2: %s' \n",
    "      %round((bf['Product_Category_2'].isna().sum())/len(bf['Product_Category_2']),2))\n",
    "print('Percentage of NaN values in Product_Category_3: %s' \n",
    "      %round((bf['Product_Category_3'].isna().sum())/len(bf['Product_Category_3']),2))"
   ]
  },
  {
   "cell_type": "markdown",
   "metadata": {},
   "source": [
    "As it can be seen above, the percentage of NaN values in the two features is considerable, especially for Product_Category_3. \n",
    "\n",
    "Since we do not know anything about the meaning of this categories or how they are related to each other, it is not feasible to try and infer the possible values behind this NaN. It can also be that these NaN are not missing values in the proper sense, but simply the product does not have a second or third category. If this is the case, we could consider NaN as a category in itself. However, we cannot be sure about it. \n",
    "\n",
    "Another thing we don't know is whether across category 1, 2 and 3, the same number means the same thing. Let's assume that category 5 is electronics. So, a product that has a 5 in Product_Category_1 belongs to electronics. What about another product which has a 5 in Product_Category_2. Does that 5 still represents electronic or the categories in Product_Category_2 are subcategories of Product_Category_1 and therefore that 5 means something else? The same reasoning applies to NaN values in categories 2 and 3: does it mean that there are no subcategories for that product or simply that the product can only be classified in one categories instead of 2 or 3?\n",
    "\n",
    "Given this uncertainty and the high number of NaN values we deemed best to drop Product_Category_2 and Product_Category_3 from our analysis. Afterall, even without those, we still have a considerable number of features to analyse."
   ]
  },
  {
   "cell_type": "markdown",
   "metadata": {},
   "source": [
    "Now, we convert the data types"
   ]
  },
  {
   "cell_type": "code",
   "execution_count": 9,
   "metadata": {},
   "outputs": [],
   "source": [
    "bf['Occupation'] = bf['Occupation'].astype(object)\n",
    "bf['Marital_Status'] = bf['Marital_Status'].astype(object)\n",
    "bf['Product_Category_1'] = bf['Product_Category_1'].astype(object)\n",
    "bf['User_ID'] = bf['User_ID'].astype(object)\n",
    "bf['Product_ID'] = bf['Product_ID'].astype(object)"
   ]
  },
  {
   "cell_type": "markdown",
   "metadata": {},
   "source": [
    "### Purchase distribution"
   ]
  },
  {
   "cell_type": "markdown",
   "metadata": {},
   "source": [
    "Below, we can see the distribution of the only continuous variable in our dataset. "
   ]
  },
  {
   "cell_type": "code",
   "execution_count": 44,
   "metadata": {},
   "outputs": [
    {
     "data": {
      "text/plain": [
       "count    537577.00\n",
       "mean       9333.86\n",
       "std        4981.02\n",
       "min         185.00\n",
       "25%        5866.00\n",
       "50%        8062.00\n",
       "75%       12073.00\n",
       "max       23961.00\n",
       "Name: Purchase, dtype: float64"
      ]
     },
     "execution_count": 44,
     "metadata": {},
     "output_type": "execute_result"
    }
   ],
   "source": [
    "round(bf['Purchase'].describe(),2)"
   ]
  },
  {
   "cell_type": "code",
   "execution_count": 172,
   "metadata": {},
   "outputs": [
    {
     "data": {
      "image/png": "[encoded data removed]",
      "text/plain": [
       "<Figure size 1152x432 with 2 Axes>"
      ]
     },
     "metadata": {
      "needs_background": "light"
     },
     "output_type": "display_data"
    }
   ],
   "source": [
    "fig, ax = plt.subplots(ncols=2, figsize=(16, 6))\n",
    "sns.distplot(bf['Purchase'], ax=ax[0], color='lightblue');\n",
    "sns.boxplot(bf['Purchase'], ax=ax[1], color='lightblue');"
   ]
  },
  {
   "cell_type": "markdown",
   "metadata": {},
   "source": [
    "We can see that the distribution is not normal, and neither the mean nor the median would be representative of it. There seem to be some outliers, but given the nature of the variable and the shape of the distribution we decided not to consider them as such and leave them be."
   ]
  },
  {
   "cell_type": "markdown",
   "metadata": {},
   "source": [
    "### Purchase vs the rest"
   ]
  },
  {
   "cell_type": "markdown",
   "metadata": {},
   "source": [
    "Since all of our variables are categorical, we cannot use the correlation heatmap to see tehir relationship with the target variable. Therefore, we have to use barplots."
   ]
  },
  {
   "cell_type": "code",
   "execution_count": 12,
   "metadata": {},
   "outputs": [],
   "source": [
    "#Preparing the dataframes for the visualization. \n",
    "#We group by each category and display the sum of purchases and its mean value \n",
    "#(although the latter is not that meaningful) \n",
    "\n",
    "bf_gender1=bf.groupby('Gender', as_index=False)['Purchase'].sum()\n",
    "bf_gender2=bf.groupby('Gender', as_index=False)['Purchase'].mean()\n",
    "\n",
    "bf_age1=bf.groupby('Age', as_index=False)['Purchase'].sum()\n",
    "bf_age2=bf.groupby('Age', as_index=False)['Purchase'].mean()\n",
    "\n",
    "bf_occupation1=bf.groupby('Occupation', as_index=False)['Purchase'].sum()\n",
    "bf_occupation2=bf.groupby('Occupation', as_index=False)['Purchase'].mean()\n",
    "\n",
    "\n",
    "bf_city1=bf.groupby('City_Category', as_index=False)['Purchase'].sum()\n",
    "bf_city2=bf.groupby('City_Category', as_index=False)['Purchase'].mean()\n",
    "\n",
    "bf_years1=bf.groupby('Stay_In_Current_City_Years', as_index=False)['Purchase'].sum()\n",
    "bf_years2=bf.groupby('Stay_In_Current_City_Years', as_index=False)['Purchase'].mean()\n",
    "\n",
    "bf_marital1=bf.groupby('Marital_Status', as_index=False)['Purchase'].sum()\n",
    "bf_marital2=bf.groupby('Marital_Status', as_index=False)['Purchase'].mean()\n",
    "\n",
    "bf_pc1_1=bf.groupby('Product_Category_1', as_index=False)['Purchase'].sum()\n",
    "bf_pc1_2=bf.groupby('Product_Category_1', as_index=False)['Purchase'].mean()"
   ]
  },
  {
   "cell_type": "code",
   "execution_count": 100,
   "metadata": {
    "scrolled": false
   },
   "outputs": [
    {
     "data": {
      "image/png": "[encoded data removed]",
      "text/plain": [
       "<Figure size 1296x3024 with 21 Axes>"
      ]
     },
     "metadata": {
      "needs_background": "light"
     },
     "output_type": "display_data"
    }
   ],
   "source": [
    "#Visualization Code\n",
    "fig, ax = plt.subplots(nrows=7, ncols=3, figsize=(18, 42))\n",
    "\n",
    "\n",
    "sns.barplot(x='Gender', y='Purchase', data=bf_gender1, ax=ax[0,0], color='lightblue').set_title('Purchase Sum');\n",
    "sns.barplot(x='Gender', y='Purchase', data=bf_gender2, ax=ax[0,1], color='lightblue').set_title('Purchase Average');\n",
    "sns.boxplot(x='Gender', y='Purchase', data=bf, ax=ax[0,2], color='lightblue').set_title('Purchase Distribution');\n",
    "\n",
    "sns.barplot(x='Age', y='Purchase', data=bf_age1, ax=ax[1,0], color='lightblue').set_title('Purchase Sum');\n",
    "sns.barplot(x='Age', y='Purchase', data=bf_age2, ax=ax[1,1], color='lightblue').set_title('Purchase Average');\n",
    "sns.boxplot(x='Age', y='Purchase', data=bf, ax=ax[1,2], color='lightblue').set_title('Purchase Distribution');\n",
    "\n",
    "sns.barplot(x='Occupation', y='Purchase', data=bf_occupation1, ax=ax[2,0], color='lightblue').set_title('Purchase Sum');\n",
    "sns.barplot(x='Occupation', y='Purchase', data=bf_occupation2, ax=ax[2,1], color='lightblue').set_title('Purchase Average');\n",
    "sns.boxplot(x='Occupation', y='Purchase', data=bf, ax=ax[2,2], color='lightblue').set_title('Purchase Distribution');\n",
    "\n",
    "sns.barplot(x='City_Category', y='Purchase', data=bf_city1, ax=ax[3,0], color='lightblue').set_title('Purchase Sum');\n",
    "sns.barplot(x='City_Category', y='Purchase', data=bf_city2, ax=ax[3,1], color='lightblue').set_title('Purchase Average');\n",
    "sns.boxplot(x='City_Category', y='Purchase', data=bf, ax=ax[3,2], color='lightblue').set_title('Purchase Distribution');\n",
    "\n",
    "sns.barplot(x='Stay_In_Current_City_Years', y='Purchase', data=bf_years1, ax=ax[4,0], color='lightblue').set_title('Purchase Sum');\n",
    "sns.barplot(x='Stay_In_Current_City_Years', y='Purchase', data=bf_years2, ax=ax[4,1], color='lightblue').set_title('Purchase Average');\n",
    "sns.boxplot(x='Stay_In_Current_City_Years', y='Purchase', data=bf, ax=ax[4,2], color='lightblue').set_title('Purchase Distribution');\n",
    "\n",
    "sns.barplot(x='Marital_Status', y='Purchase', data=bf_marital1, ax=ax[5,0], color='lightblue').set_title('Purchase Sum');\n",
    "sns.barplot(x='Marital_Status', y='Purchase', data=bf_marital2, ax=ax[5,1], color='lightblue').set_title('Purchase Average');\n",
    "sns.boxplot(x='Marital_Status', y='Purchase', data=bf, ax=ax[5,2], color='lightblue').set_title('Purchase Distribution');\n",
    "\n",
    "sns.barplot(x='Product_Category_1', y='Purchase', data=bf_pc1_1, ax=ax[6,0], color='lightblue').set_title('Purchase Sum');\n",
    "sns.barplot(x='Product_Category_1', y='Purchase', data=bf_pc1_2, ax=ax[6,1], color='lightblue').set_title('Purchase Average');\n",
    "sns.boxplot(x='Product_Category_1', y='Purchase', data=bf, ax=ax[6,2], color='lightblue').set_title('Purchase Distribution');"
   ]
  },
  {
   "cell_type": "markdown",
   "metadata": {},
   "source": [
    "Product_Category_1 seems to be the features along which the target variables changes the most, in terms of sum, average and distribution. This makes a lot of sense, because the price of a product and thus the purchase amount usually depends on the type of product you buy. \n",
    "\n",
    "As far as the other variables are concerned we can try to combine them and see whether their effect on purchases changes."
   ]
  },
  {
   "cell_type": "code",
   "execution_count": 14,
   "metadata": {},
   "outputs": [
    {
     "data": {
      "image/png": "[encoded data removed]",
      "text/plain": [
       "<Figure size 1080x504 with 1 Axes>"
      ]
     },
     "metadata": {
      "needs_background": "light"
     },
     "output_type": "display_data"
    }
   ],
   "source": [
    "fig = plt.subplots(figsize=(15, 7))\n",
    "sns.boxplot(x='Occupation', y='Purchase', data=bf, hue='Gender');"
   ]
  },
  {
   "cell_type": "markdown",
   "metadata": {},
   "source": [
    "In the graph above we can see the distribution of purchases along the different occupation categories by gender. Overall, it seems that men tend to spend more than women across each occupation. Furthermore, there seem to be more differences in the purchase distribution across occupations if we take also the gender into account. Before proceeding further, it could be worth to deep dive a little into the gender variable to answer questions such as \"Are there more men than women in the datasets?\" or \"Do men spend more because there is more of them or because they buy more expensive type of products?\""
   ]
  },
  {
   "cell_type": "markdown",
   "metadata": {},
   "source": [
    "#### Gender"
   ]
  },
  {
   "cell_type": "code",
   "execution_count": 101,
   "metadata": {},
   "outputs": [
    {
     "data": {
      "image/png": "[encoded data removed]",
      "text/plain": [
       "<Figure size 1296x432 with 3 Axes>"
      ]
     },
     "metadata": {
      "needs_background": "light"
     },
     "output_type": "display_data"
    }
   ],
   "source": [
    "fig, ax = plt.subplots(ncols=3, figsize=(18, 6))\n",
    "\n",
    "sns.barplot(x='Gender', y='Purchase', data=bf_gender1, ax=ax[0], color='lightblue').set_title('Purchase Sum');\n",
    "sns.barplot(x='Gender', y='Purchase', data=bf_gender2, ax=ax[1], color='lightblue').set_title('Purchase Average');\n",
    "sns.boxplot(x='Gender', y='Purchase', data=bf, ax=ax[2], color='lightblue').set_title('Purchase Distribution');"
   ]
  },
  {
   "cell_type": "markdown",
   "metadata": {},
   "source": [
    "Purchases seem to be higher for men tha female. Why is that?"
   ]
  },
  {
   "cell_type": "markdown",
   "metadata": {},
   "source": [
    "In order to find how many men and women are in the sample, I can use the User_Id field. Indeed, one user may purchase more than one product, appearing in the dataset more than once."
   ]
  },
  {
   "cell_type": "code",
   "execution_count": 16,
   "metadata": {},
   "outputs": [
    {
     "data": {
      "text/plain": [
       "5891"
      ]
     },
     "execution_count": 16,
     "metadata": {},
     "output_type": "execute_result"
    }
   ],
   "source": [
    "bf['User_ID'].nunique()"
   ]
  },
  {
   "cell_type": "markdown",
   "metadata": {},
   "source": [
    "There are 5891 distinct customers in the sample, dicided in the two gender as following:"
   ]
  },
  {
   "cell_type": "code",
   "execution_count": 17,
   "metadata": {},
   "outputs": [
    {
     "data": {
      "text/plain": [
       "Gender\n",
       "F    1666\n",
       "M    4225\n",
       "Name: User_ID, dtype: int64"
      ]
     },
     "execution_count": 17,
     "metadata": {},
     "output_type": "execute_result"
    }
   ],
   "source": [
    "bf.groupby('Gender')['User_ID'].nunique()"
   ]
  },
  {
   "cell_type": "markdown",
   "metadata": {},
   "source": [
    "We can see that there are more than double men than women. But how many purchases in total do they each do? Maybe women purchase more item than men."
   ]
  },
  {
   "cell_type": "code",
   "execution_count": 18,
   "metadata": {},
   "outputs": [
    {
     "data": {
      "text/plain": [
       "M    405380\n",
       "F    132197\n",
       "Name: Gender, dtype: int64"
      ]
     },
     "execution_count": 18,
     "metadata": {},
     "output_type": "execute_result"
    }
   ],
   "source": [
    "bf['Gender'].value_counts()"
   ]
  },
  {
   "cell_type": "code",
   "execution_count": 19,
   "metadata": {},
   "outputs": [
    {
     "data": {
      "text/plain": [
       "M    0.754087\n",
       "F    0.245913\n",
       "Name: Gender, dtype: float64"
      ]
     },
     "execution_count": 19,
     "metadata": {},
     "output_type": "execute_result"
    }
   ],
   "source": [
    "bf['Gender'].value_counts(normalize=True)"
   ]
  },
  {
   "cell_type": "markdown",
   "metadata": {},
   "source": [
    "75% of the purchased items was bought by men. It seems that the the difference in purchases across gender might be due to numerosity. The final check is wheter men buy more expensive product."
   ]
  },
  {
   "cell_type": "code",
   "execution_count": 102,
   "metadata": {},
   "outputs": [
    {
     "data": {
      "image/png": "[encoded data removed]",
      "text/plain": [
       "<Figure size 1296x432 with 3 Axes>"
      ]
     },
     "metadata": {
      "needs_background": "light"
     },
     "output_type": "display_data"
    }
   ],
   "source": [
    "fig, ax = plt.subplots(ncols=3, figsize=(18, 6))\n",
    "\n",
    "sns.barplot(x='Product_Category_1', y='Purchase', data=bf_pc1_1, ax=ax[0], color='lightblue').set_title('Purchase Sum');\n",
    "sns.barplot(x='Product_Category_1', y='Purchase', data=bf_pc1_2, ax=ax[1], color='lightblue').set_title('Purchase Average');\n",
    "sns.boxplot(x='Product_Category_1', y='Purchase', data=bf, ax=ax[2], color='lightblue').set_title('Purchase Distribution');"
   ]
  },
  {
   "cell_type": "markdown",
   "metadata": {},
   "source": [
    "Looking at the purchase distribution across product categories is clear that there categories more expensive than others. "
   ]
  },
  {
   "cell_type": "code",
   "execution_count": 21,
   "metadata": {},
   "outputs": [
    {
     "data": {
      "text/html": [
       "<div>\n",
       "<style scoped>\n",
       "    .dataframe tbody tr th:only-of-type {\n",
       "        vertical-align: middle;\n",
       "    }\n",
       "\n",
       "    .dataframe tbody tr th {\n",
       "        vertical-align: top;\n",
       "    }\n",
       "\n",
       "    .dataframe thead th {\n",
       "        text-align: right;\n",
       "    }\n",
       "</style>\n",
       "<table border=\"1\" class=\"dataframe\">\n",
       "  <thead>\n",
       "    <tr style=\"text-align: right;\">\n",
       "      <th>Gender</th>\n",
       "      <th>F</th>\n",
       "      <th>M</th>\n",
       "    </tr>\n",
       "    <tr>\n",
       "      <th>Product_Category_1</th>\n",
       "      <th></th>\n",
       "      <th></th>\n",
       "    </tr>\n",
       "  </thead>\n",
       "  <tbody>\n",
       "    <tr>\n",
       "      <th>1</th>\n",
       "      <td>0.176368</td>\n",
       "      <td>0.823632</td>\n",
       "    </tr>\n",
       "    <tr>\n",
       "      <th>2</th>\n",
       "      <td>0.237159</td>\n",
       "      <td>0.762841</td>\n",
       "    </tr>\n",
       "    <tr>\n",
       "      <th>3</th>\n",
       "      <td>0.295934</td>\n",
       "      <td>0.704066</td>\n",
       "    </tr>\n",
       "    <tr>\n",
       "      <th>4</th>\n",
       "      <td>0.308810</td>\n",
       "      <td>0.691190</td>\n",
       "    </tr>\n",
       "    <tr>\n",
       "      <th>5</th>\n",
       "      <td>0.277263</td>\n",
       "      <td>0.722737</td>\n",
       "    </tr>\n",
       "    <tr>\n",
       "      <th>6</th>\n",
       "      <td>0.221930</td>\n",
       "      <td>0.778070</td>\n",
       "    </tr>\n",
       "    <tr>\n",
       "      <th>7</th>\n",
       "      <td>0.252999</td>\n",
       "      <td>0.747001</td>\n",
       "    </tr>\n",
       "    <tr>\n",
       "      <th>8</th>\n",
       "      <td>0.293823</td>\n",
       "      <td>0.706177</td>\n",
       "    </tr>\n",
       "    <tr>\n",
       "      <th>9</th>\n",
       "      <td>0.173267</td>\n",
       "      <td>0.826733</td>\n",
       "    </tr>\n",
       "    <tr>\n",
       "      <th>10</th>\n",
       "      <td>0.226153</td>\n",
       "      <td>0.773847</td>\n",
       "    </tr>\n",
       "    <tr>\n",
       "      <th>11</th>\n",
       "      <td>0.194449</td>\n",
       "      <td>0.805551</td>\n",
       "    </tr>\n",
       "    <tr>\n",
       "      <th>12</th>\n",
       "      <td>0.386323</td>\n",
       "      <td>0.613677</td>\n",
       "    </tr>\n",
       "    <tr>\n",
       "      <th>13</th>\n",
       "      <td>0.262500</td>\n",
       "      <td>0.737500</td>\n",
       "    </tr>\n",
       "    <tr>\n",
       "      <th>14</th>\n",
       "      <td>0.408667</td>\n",
       "      <td>0.591333</td>\n",
       "    </tr>\n",
       "    <tr>\n",
       "      <th>15</th>\n",
       "      <td>0.164920</td>\n",
       "      <td>0.835080</td>\n",
       "    </tr>\n",
       "    <tr>\n",
       "      <th>16</th>\n",
       "      <td>0.243684</td>\n",
       "      <td>0.756316</td>\n",
       "    </tr>\n",
       "    <tr>\n",
       "      <th>17</th>\n",
       "      <td>0.107584</td>\n",
       "      <td>0.892416</td>\n",
       "    </tr>\n",
       "    <tr>\n",
       "      <th>18</th>\n",
       "      <td>0.122276</td>\n",
       "      <td>0.877724</td>\n",
       "    </tr>\n",
       "  </tbody>\n",
       "</table>\n",
       "</div>"
      ],
      "text/plain": [
       "Gender                     F         M\n",
       "Product_Category_1                    \n",
       "1                   0.176368  0.823632\n",
       "2                   0.237159  0.762841\n",
       "3                   0.295934  0.704066\n",
       "4                   0.308810  0.691190\n",
       "5                   0.277263  0.722737\n",
       "6                   0.221930  0.778070\n",
       "7                   0.252999  0.747001\n",
       "8                   0.293823  0.706177\n",
       "9                   0.173267  0.826733\n",
       "10                  0.226153  0.773847\n",
       "11                  0.194449  0.805551\n",
       "12                  0.386323  0.613677\n",
       "13                  0.262500  0.737500\n",
       "14                  0.408667  0.591333\n",
       "15                  0.164920  0.835080\n",
       "16                  0.243684  0.756316\n",
       "17                  0.107584  0.892416\n",
       "18                  0.122276  0.877724"
      ]
     },
     "execution_count": 21,
     "metadata": {},
     "output_type": "execute_result"
    }
   ],
   "source": [
    "bf.groupby('Product_Category_1')['Gender'].value_counts(normalize=True).unstack()"
   ]
  },
  {
   "cell_type": "markdown",
   "metadata": {},
   "source": [
    "Looking at the table, we can see that men bought more products than women in each category. Men are more, buy more and more expensive than women in our sample. "
   ]
  },
  {
   "cell_type": "markdown",
   "metadata": {},
   "source": [
    "## Other interactions"
   ]
  },
  {
   "cell_type": "code",
   "execution_count": 110,
   "metadata": {},
   "outputs": [
    {
     "data": {
      "image/png": "[encoded data removed]",
      "text/plain": [
       "<Figure size 1080x792 with 2 Axes>"
      ]
     },
     "metadata": {
      "needs_background": "light"
     },
     "output_type": "display_data"
    }
   ],
   "source": [
    "fig, ax = plt.subplots(nrows=2, ncols=1, figsize=(15, 11))\n",
    "\n",
    "sns.boxplot(x='Occupation', y='Purchase', data=bf, hue='City_Category', palette='husl', ax=ax[0]);\n",
    "sns.boxplot(x='Product_Category_1', y='Purchase', data=bf, hue='Gender', palette='husl', ax=ax[1]);\n",
    "plt.legend(loc='best');"
   ]
  },
  {
   "cell_type": "markdown",
   "metadata": {},
   "source": [
    "# Regressions"
   ]
  },
  {
   "cell_type": "markdown",
   "metadata": {},
   "source": [
    "## Data pre-processing"
   ]
  },
  {
   "cell_type": "markdown",
   "metadata": {},
   "source": [
    "As explained before, we decided to drop Product_Category_2 and Product_Category_3 from the analysis. We also decided to drop User_ID and Product_ID. Using these variables in the fitting part would be highly informative; however, it would not be useful for the prediction. Product_ID would imply that when I am predicting I already know the item bought, which is not credible. If I knew, I would not need to predict the purchase amount. User_ID would restrict the prediction to the id in the dataset. If a new customer came by, without an id because is new, then I could not predict the purchase amount, even if I knew the value of all the other variables for them. "
   ]
  },
  {
   "cell_type": "code",
   "execution_count": 22,
   "metadata": {},
   "outputs": [],
   "source": [
    "bf_reg = bf.drop(columns=['User_ID', 'Product_ID', 'Product_Category_2', 'Product_Category_3'])"
   ]
  },
  {
   "cell_type": "code",
   "execution_count": 23,
   "metadata": {},
   "outputs": [],
   "source": [
    "X = bf_reg.drop(columns='Purchase')\n",
    "y = bf_reg['Purchase']"
   ]
  },
  {
   "cell_type": "code",
   "execution_count": 24,
   "metadata": {},
   "outputs": [],
   "source": [
    "X = pd.get_dummies(X, drop_first='True')"
   ]
  },
  {
   "cell_type": "code",
   "execution_count": 25,
   "metadata": {},
   "outputs": [],
   "source": [
    "from sklearn.model_selection import train_test_split"
   ]
  },
  {
   "cell_type": "code",
   "execution_count": 26,
   "metadata": {},
   "outputs": [],
   "source": [
    "X_train, X_test, y_train, y_test = train_test_split(X, y, test_size=0.3, random_state=11)"
   ]
  },
  {
   "cell_type": "markdown",
   "metadata": {},
   "source": [
    "## Baseline regression"
   ]
  },
  {
   "cell_type": "markdown",
   "metadata": {},
   "source": [
    "We run a simple OLS regression, which will represent our benchmark to beat. When comparing different models is important to do cross-validation. The scores of a model depend on the train - test split. Cross-validation allows to perform several split and train/test the model on them, so that we can obtain more robust scores.\n",
    "The models comparison will be done according to the root mean squared error (RMSE). "
   ]
  },
  {
   "cell_type": "code",
   "execution_count": 27,
   "metadata": {},
   "outputs": [],
   "source": [
    "from sklearn.metrics import mean_squared_error, mean_absolute_error, r2_score"
   ]
  },
  {
   "cell_type": "code",
   "execution_count": 28,
   "metadata": {},
   "outputs": [],
   "source": [
    "from sklearn.linear_model import LinearRegression"
   ]
  },
  {
   "cell_type": "code",
   "execution_count": 29,
   "metadata": {},
   "outputs": [],
   "source": [
    "from sklearn.model_selection import KFold"
   ]
  },
  {
   "cell_type": "code",
   "execution_count": 30,
   "metadata": {},
   "outputs": [],
   "source": [
    "ols_bench = LinearRegression()"
   ]
  },
  {
   "cell_type": "code",
   "execution_count": 31,
   "metadata": {},
   "outputs": [],
   "source": [
    "def kfold_cv(model, X_train, y_train, cv=50):\n",
    "    \"\"\"\n",
    "    Creates the interactions variable between two features and performs a regression for each pair\n",
    "    \n",
    "    Parameters\n",
    "    ----------\n",
    "    \n",
    "    model: \n",
    "        initilized object of the model to train\n",
    "    X_train: pandas.core.frame.DataFrame\n",
    "        train dataset containing the variables to interact\n",
    "    y_train: pandas.core.series.Series\n",
    "        train dataset containing the target variable\n",
    "    cv: int\n",
    "        number of cross-validation splits to perform. Deafult value is 50.\n",
    "        \n",
    "    Returns\n",
    "    ----------\n",
    "    \n",
    "    cv_df: pandas.core.frame.DataFrame\n",
    "        dataframe with the results of the regression\n",
    "    \"\"\"\n",
    "    \n",
    "    \n",
    "    l_r_2 = []\n",
    "    l_mse_test=[]\n",
    "    l_mse_train=[]\n",
    "    l_mae_test=[]\n",
    "    l_mae_train=[]\n",
    "    l_rmse_test=[]\n",
    "    l_rmse_train=[]\n",
    "    kf=KFold(cv, random_state=11)\n",
    "    for train, test in kf.split(X_train, y_train): #this is the loop for iterating across the kfold splits\n",
    "        model.fit(X_train.iloc[train], y_train.iloc[train])\n",
    "        r_2 = model.score(X_train.iloc[train], y_train.iloc[train]) #computig the Rsquared of the regression\n",
    "        pred = model.predict(X_train.iloc[test]) \n",
    "        pred_tr = model.predict(X_train.iloc[train])\n",
    "        mse_test = mean_squared_error(y_train.iloc[test],pred) #computing the mse on the test\n",
    "        mse_train = mean_squared_error(y_train.iloc[train],pred_tr) #computing the mse on the train\n",
    "        mae_test = mean_absolute_error(y_train.iloc[test],pred) #computing the mae on the test\n",
    "        mae_train = mean_absolute_error(y_train.iloc[train],pred_tr) #computing the mae on the train\n",
    "        rmse_test = np.sqrt(mean_squared_error(y_train.iloc[test],pred)) #computing the rmse on the test\n",
    "        rmse_train = np.sqrt(mean_squared_error(y_train.iloc[train],pred_tr)) #computing the rmse on the train\n",
    "        l_r_2.append(r_2)\n",
    "        l_mse_test.append(mse_test)\n",
    "        l_mse_train.append(mse_train)\n",
    "        l_mae_test.append(mae_test)\n",
    "        l_mae_train.append(mae_train)\n",
    "        l_rmse_test.append(rmse_test)\n",
    "        l_rmse_train.append(rmse_train)\n",
    "\n",
    "    entries = [l_r_2, l_mse_test,l_mse_train, l_mae_test, l_mae_train, l_rmse_test, l_rmse_train]\n",
    "    cv_df = pd.DataFrame(entries).T \n",
    "    cv_df.columns = ['R_2_score','mse_test','mse_train', 'mae_test', 'mae_train', 'rmse_test', 'rmse_train']\n",
    "    return cv_df"
   ]
  },
  {
   "cell_type": "code",
   "execution_count": 34,
   "metadata": {},
   "outputs": [],
   "source": [
    "ols_bench_cv = kfold_cv(model=ols_bench, X_train=X_train, y_train=y_train)"
   ]
  },
  {
   "cell_type": "code",
   "execution_count": 36,
   "metadata": {},
   "outputs": [
    {
     "name": "stdout",
     "output_type": "stream",
     "text": [
      "R2 score:  0.63\n",
      "RMSE on train sample:  3027.61\n",
      "RMSE on validation sample:  3027.93\n",
      "MSE on train sample:  9166435.27\n",
      "MSE on validation sample:  9169196.04\n",
      "MAE on train sample:  2299.46\n",
      "MAE on validation sample:  2299.79\n"
     ]
    }
   ],
   "source": [
    "print('R2 score: ', round(ols_bench_cv['R_2_score'].mean(),2))\n",
    "print('RMSE on train sample: ', round(ols_bench_cv['rmse_train'].mean(),2))\n",
    "print('RMSE on validation sample: ', round(ols_bench_cv['rmse_test'].mean(),2))\n",
    "print('MSE on train sample: ', round(ols_bench_cv['mse_train'].mean(),2))\n",
    "print('MSE on validation sample: ', round(ols_bench_cv['mse_test'].mean(),2))\n",
    "print('MAE on train sample: ', round(ols_bench_cv['mae_train'].mean(),2))\n",
    "print('MAE on validation sample: ', round(ols_bench_cv['mae_test'].mean(),2))"
   ]
  },
  {
   "cell_type": "markdown",
   "metadata": {},
   "source": [
    "As it can be seen from the above metrics, the prediction errors are high, around 3000 dollars. However, given that the average and median purchase levels are, respectively, 9333.86 and 8062.00, it does not seem that unreasonable, also considering the range of the purchase distribution. In the graphs below, we can see the distributions of the errors on the train and validation set."
   ]
  },
  {
   "cell_type": "code",
   "execution_count": 54,
   "metadata": {},
   "outputs": [
    {
     "data": {
      "image/png": "[encoded data removed]",
      "text/plain": [
       "<Figure size 1008x1296 with 6 Axes>"
      ]
     },
     "metadata": {
      "needs_background": "light"
     },
     "output_type": "display_data"
    }
   ],
   "source": [
    "fig, ax = plt.subplots(nrows=3, ncols=2, figsize=(14,18))\n",
    "sns.distplot(ols_bench_cv['rmse_test'], ax = ax[0,0]).set_title('RMSE - Validation');\n",
    "sns.distplot(ols_bench_cv['rmse_train'], ax = ax[0,1]).set_title('RMSE - Train');\n",
    "sns.distplot(ols_bench_cv['mse_test'], ax= ax[1,0]).set_title('MSE - Validation');\n",
    "sns.distplot(ols_bench_cv['mse_train'], ax = ax[1,1]).set_title('MSE - Train');\n",
    "sns.distplot(ols_bench_cv['mae_test'], ax = ax[2,0]).set_title('MAE - Validation');\n",
    "sns.distplot(ols_bench_cv['mae_test'], ax= ax[2,1]).set_title('MAE - Train');"
   ]
  },
  {
   "cell_type": "markdown",
   "metadata": {},
   "source": [
    "## Interactions"
   ]
  },
  {
   "cell_type": "markdown",
   "metadata": {},
   "source": [
    "A way to try to improve the results of our baseline regression is interacting the different dummies among each other and add these interactions to the feature matrix. The interaction variables allow to capture the combined effect of two or more variable on our target. \n",
    "The function below interacts dummies in pairs and run the function kfold_cv on them."
   ]
  },
  {
   "cell_type": "code",
   "execution_count": 41,
   "metadata": {},
   "outputs": [],
   "source": [
    "def regression_with_interactions(feature_1, feature_2, X_train, y_train, model, cv):\n",
    "    \"\"\"\n",
    "    Creates the interactions variable between two features and performs a regression for each pair\n",
    "    \n",
    "    Parameters\n",
    "    ----------\n",
    "    \n",
    "    feature_1: string\n",
    "        name of the variable we want interact\n",
    "    feature_2: string\n",
    "        name of the variable we want interact\n",
    "    X_train: pandas.core.frame.DataFrame\n",
    "        train dataset containing the variables to interact\n",
    "    y_train: pandas.core.series.Series\n",
    "        train dataset containing the target variable\n",
    "    cv: int\n",
    "        number of cross-validation splits to perform\n",
    "        \n",
    "    Returns\n",
    "    ----------\n",
    "    \n",
    "    cv_df_int: pandas.core.frame.DataFrame\n",
    "        dataframe with the results of the regression\n",
    "    \"\"\"\n",
    "    \n",
    "    X_train_copy=X_train #creating a copy so the function does not overwrite the original dataframe.\n",
    "    data_subset_1 = X_train_copy[X_train_copy.columns[pd.Series(X_train_copy.columns).str.startswith(feature_1)]]\n",
    "    data_subset_2 = X_train_copy[X_train_copy.columns[pd.Series(X_train_copy.columns).str.startswith(feature_2)]]\n",
    "    for feature_A in data_subset_1.columns:\n",
    "        for feature_B in data_subset_2.columns:\n",
    "            interaction = X_train_copy[feature_A] * X_train_copy[feature_B]\n",
    "            X_train_copy = pd.concat([X_train_copy, interaction], axis=1)\n",
    "    #Using kfold_cv function to the dataframe with the interactions.        \n",
    "    cv_df_int = kfold_cv(model=model, X_train=X_train_copy, y_train=y_train, cv=cv)\n",
    "    return cv_df_int"
   ]
  },
  {
   "cell_type": "markdown",
   "metadata": {},
   "source": [
    "We apply the function above and try to see whether interacting different pairs of values improves the regression results over the benchmark."
   ]
  },
  {
   "cell_type": "code",
   "execution_count": 43,
   "metadata": {},
   "outputs": [],
   "source": [
    "gen_occ = regression_with_interactions('Gender', 'Occupation', X_train, y_train, ols_bench, cv=50)"
   ]
  },
  {
   "cell_type": "code",
   "execution_count": 56,
   "metadata": {},
   "outputs": [],
   "source": [
    "age_occ = regression_with_interactions('Age', 'Occupation', X_train, y_train, ols_bench, cv=50)"
   ]
  },
  {
   "cell_type": "code",
   "execution_count": 45,
   "metadata": {},
   "outputs": [],
   "source": [
    "prod_occ = regression_with_interactions('Product_Category_1', 'Occupation', X_train, y_train, ols_bench, cv=50)"
   ]
  },
  {
   "cell_type": "code",
   "execution_count": 46,
   "metadata": {},
   "outputs": [],
   "source": [
    "gen_prod = regression_with_interactions('Product_Category_1', 'Gender', X_train, y_train, ols_bench, cv=50)"
   ]
  },
  {
   "cell_type": "code",
   "execution_count": 47,
   "metadata": {},
   "outputs": [],
   "source": [
    "age_prod = regression_with_interactions('Age', 'Product_Category_1', X_train, y_train, ols_bench, cv=50)"
   ]
  },
  {
   "cell_type": "code",
   "execution_count": 49,
   "metadata": {},
   "outputs": [],
   "source": [
    "mar_prod = regression_with_interactions('Marital_Status', 'Product_Category_1', X_train, y_train, ols_bench, cv=50)"
   ]
  },
  {
   "cell_type": "code",
   "execution_count": 51,
   "metadata": {},
   "outputs": [],
   "source": [
    "city_prod = regression_with_interactions('City_Category', 'Product_Category_1', X_train, y_train, ols_bench, cv=50)"
   ]
  },
  {
   "cell_type": "code",
   "execution_count": 52,
   "metadata": {},
   "outputs": [],
   "source": [
    "year_prod = regression_with_interactions('Stay_In_Current_City_Years', 'Product_Category_1', X_train, y_train, ols_bench, cv=50)"
   ]
  },
  {
   "cell_type": "code",
   "execution_count": 129,
   "metadata": {},
   "outputs": [
    {
     "data": {
      "text/html": [
       "<div>\n",
       "<style scoped>\n",
       "    .dataframe tbody tr th:only-of-type {\n",
       "        vertical-align: middle;\n",
       "    }\n",
       "\n",
       "    .dataframe tbody tr th {\n",
       "        vertical-align: top;\n",
       "    }\n",
       "\n",
       "    .dataframe thead th {\n",
       "        text-align: right;\n",
       "    }\n",
       "</style>\n",
       "<table border=\"1\" class=\"dataframe\">\n",
       "  <thead>\n",
       "    <tr style=\"text-align: right;\">\n",
       "      <th></th>\n",
       "      <th>Benchmark</th>\n",
       "      <th>Gender - Occupation</th>\n",
       "      <th>Age - Occupation</th>\n",
       "      <th>Product - Occupation</th>\n",
       "      <th>Gender - Product</th>\n",
       "      <th>Age - Product</th>\n",
       "      <th>Marital - Product</th>\n",
       "      <th>City - Product</th>\n",
       "      <th>Year - Product</th>\n",
       "    </tr>\n",
       "  </thead>\n",
       "  <tbody>\n",
       "    <tr>\n",
       "      <th>RMSE validation</th>\n",
       "      <td>3027.93</td>\n",
       "      <td>3027.15</td>\n",
       "      <td>3022.14</td>\n",
       "      <td>3026.93</td>\n",
       "      <td>3027.75</td>\n",
       "      <td>3026.74</td>\n",
       "      <td>3027.89</td>\n",
       "      <td>3024.28</td>\n",
       "      <td>3027.87</td>\n",
       "    </tr>\n",
       "    <tr>\n",
       "      <th>RMSE train</th>\n",
       "      <td>3027.61</td>\n",
       "      <td>3026.67</td>\n",
       "      <td>3021.01</td>\n",
       "      <td>3023.10</td>\n",
       "      <td>3027.26</td>\n",
       "      <td>3025.40</td>\n",
       "      <td>3027.42</td>\n",
       "      <td>3023.62</td>\n",
       "      <td>3026.89</td>\n",
       "    </tr>\n",
       "  </tbody>\n",
       "</table>\n",
       "</div>"
      ],
      "text/plain": [
       "                 Benchmark  Gender - Occupation  Age - Occupation  \\\n",
       "RMSE validation    3027.93              3027.15           3022.14   \n",
       "RMSE train         3027.61              3026.67           3021.01   \n",
       "\n",
       "                 Product - Occupation  Gender - Product  Age - Product  \\\n",
       "RMSE validation               3026.93           3027.75        3026.74   \n",
       "RMSE train                    3023.10           3027.26        3025.40   \n",
       "\n",
       "                 Marital - Product  City - Product  Year - Product  \n",
       "RMSE validation            3027.89         3024.28         3027.87  \n",
       "RMSE train                 3027.42         3023.62         3026.89  "
      ]
     },
     "execution_count": 129,
     "metadata": {},
     "output_type": "execute_result"
    }
   ],
   "source": [
    "pd.DataFrame(data={'Benchmark':[round(ols_bench_cv['rmse_test'].mean(),2), round(ols_bench_cv['rmse_train'].mean(),2)],\n",
    "                   'Gender - Occupation': [round(gen_occ['rmse_test'].mean(),2), round(gen_occ['rmse_train'].mean(),2)], \n",
    "                   'Age - Occupation': [round(age_occ['rmse_test'].mean(),2), round(age_occ['rmse_train'].mean(),2)], \n",
    "                   'Product - Occupation': [round(prod_occ['rmse_test'].mean(),2), round(prod_occ['rmse_train'].mean(),2)],\n",
    "                   'Gender - Product': [round(gen_prod['rmse_test'].mean(),2), round(gen_prod['rmse_train'].mean(),2)],\n",
    "                   'Age - Product': [round(age_prod['rmse_test'].mean(),2), round(age_prod['rmse_train'].mean(),2)],\n",
    "                   'Marital - Product': [round(mar_prod['rmse_test'].mean(),2), round(mar_prod['rmse_train'].mean(),2)],\n",
    "                   'City - Product': [round(city_prod['rmse_test'].mean(),2), round(city_prod['rmse_train'].mean(),2)],\n",
    "                   'Year - Product': [round(year_prod['rmse_test'].mean(),2), round(year_prod['rmse_train'].mean(),2)]}, \n",
    "             index=['RMSE validation', 'RMSE train'])"
   ]
  },
  {
   "cell_type": "code",
   "execution_count": 36,
   "metadata": {},
   "outputs": [
    {
     "data": {
      "image/png": "[encoded data removed]",
      "text/plain": [
       "<Figure size 1296x1512 with 9 Axes>"
      ]
     },
     "metadata": {
      "needs_background": "light"
     },
     "output_type": "display_data"
    }
   ],
   "source": [
    "fig, ax = plt.subplots(nrows=3, ncols=3, figsize=(18,21))\n",
    "sns.distplot(ols_bench_cv['rmse_test'], ax = ax[0,0]).set_title('Baseline - No Interactions');\n",
    "sns.distplot(gen_occ['rmse_test'], ax = ax[0,1]).set_title('Gender - Occupation Interaction');\n",
    "sns.distplot(age_occ['rmse_test'], ax= ax[0,2]).set_title('Age - Occupation Interaction');\n",
    "sns.distplot(prod_occ['rmse_test'], ax = ax[1,0]).set_title('Product - Occupation Interaction');\n",
    "sns.distplot(gen_prod['rmse_test'], ax = ax[1,1]).set_title('Gender - Product Interaction');\n",
    "sns.distplot(age_prod['rmse_test'], ax= ax[1,2]).set_title('Age - Product Interaction');\n",
    "sns.distplot(mar_prod['rmse_test'], ax= ax[2,0]).set_title('Marital Status - Product Interaction');\n",
    "sns.distplot(city_prod['rmse_test'], ax= ax[2,1]).set_title('City Category - Product Interaction');\n",
    "sns.distplot(year_prod['rmse_test'], ax= ax[2,2]).set_title('Years in Current City - Product Interaction');\n"
   ]
  },
  {
   "cell_type": "markdown",
   "metadata": {},
   "source": [
    "As it can be seen from the graps and the average scores, there is hardly any improvements over the baseline regression. Interacting variables in pairs does not seem to be the road for better prediction results."
   ]
  },
  {
   "cell_type": "markdown",
   "metadata": {},
   "source": [
    "## Regularization"
   ]
  },
  {
   "cell_type": "markdown",
   "metadata": {},
   "source": [
    "Although there does not seem to be problems of overfitting, our feature matrix has a lot of variables and it could be that not all of them actually provide useful information for the regression. In the next part, we will try to run Ridge and Lasso regressions and see whether constraining the baseline model might bring better results."
   ]
  },
  {
   "cell_type": "code",
   "execution_count": null,
   "metadata": {},
   "outputs": [],
   "source": [
    "from sklearn.linear_model import RidgeCV, LassoCV"
   ]
  },
  {
   "cell_type": "code",
   "execution_count": 63,
   "metadata": {},
   "outputs": [],
   "source": [
    "ridge = RidgeCV(alphas=(0.01, 0.1, 1, 10), cv=50) #no random state available for RidgeCV\n",
    "lasso = LassoCV(alphas=[0.01, 0.1, 1, 10], cv=50, random_state=10)"
   ]
  },
  {
   "cell_type": "code",
   "execution_count": 64,
   "metadata": {},
   "outputs": [
    {
     "data": {
      "text/plain": [
       "RidgeCV(alphas=array([ 0.01,  0.1 ,  1.  , 10.  ]), cv=50, fit_intercept=True,\n",
       "    gcv_mode=None, normalize=False, scoring=None, store_cv_values=False)"
      ]
     },
     "execution_count": 64,
     "metadata": {},
     "output_type": "execute_result"
    }
   ],
   "source": [
    "ridge.fit(X_train, y_train)"
   ]
  },
  {
   "cell_type": "code",
   "execution_count": 65,
   "metadata": {},
   "outputs": [
    {
     "data": {
      "text/plain": [
       "0.6303812687643102"
      ]
     },
     "execution_count": 65,
     "metadata": {},
     "output_type": "execute_result"
    }
   ],
   "source": [
    "ridge.score(X_train, y_train)"
   ]
  },
  {
   "cell_type": "code",
   "execution_count": 66,
   "metadata": {},
   "outputs": [
    {
     "data": {
      "text/plain": [
       "1.0"
      ]
     },
     "execution_count": 66,
     "metadata": {},
     "output_type": "execute_result"
    }
   ],
   "source": [
    "ridge.alpha_"
   ]
  },
  {
   "cell_type": "markdown",
   "metadata": {},
   "source": [
    "The cross validation picked alpha = 1 as the best value for Ridge model; however, the resulting score is not better than the benchmark one. "
   ]
  },
  {
   "cell_type": "code",
   "execution_count": 69,
   "metadata": {},
   "outputs": [
    {
     "data": {
      "text/plain": [
       "LassoCV(alphas=[0.01, 0.1, 1, 10], copy_X=True, cv=50, eps=0.001,\n",
       "    fit_intercept=True, max_iter=1000, n_alphas=100, n_jobs=None,\n",
       "    normalize=False, positive=False, precompute='auto', random_state=10,\n",
       "    selection='cyclic', tol=0.0001, verbose=False)"
      ]
     },
     "execution_count": 69,
     "metadata": {},
     "output_type": "execute_result"
    }
   ],
   "source": [
    "lasso.fit(X_train, y_train)"
   ]
  },
  {
   "cell_type": "code",
   "execution_count": 73,
   "metadata": {},
   "outputs": [
    {
     "data": {
      "text/plain": [
       "0.6303812763200134"
      ]
     },
     "execution_count": 73,
     "metadata": {},
     "output_type": "execute_result"
    }
   ],
   "source": [
    "lasso.score(X_train, y_train)"
   ]
  },
  {
   "cell_type": "code",
   "execution_count": 74,
   "metadata": {},
   "outputs": [
    {
     "data": {
      "text/plain": [
       "0.01"
      ]
     },
     "execution_count": 74,
     "metadata": {},
     "output_type": "execute_result"
    }
   ],
   "source": [
    "lasso.alpha_"
   ]
  },
  {
   "cell_type": "markdown",
   "metadata": {},
   "source": [
    "The cross validation picked alpha = 0.01 as the best value for Lasso model; however, the resulting score is not better than the benchmark one. "
   ]
  },
  {
   "cell_type": "markdown",
   "metadata": {},
   "source": [
    "We know have a look at the coefficients of Ridge and Lasso compared with our benchmark model and see how strong was the regularization."
   ]
  },
  {
   "cell_type": "code",
   "execution_count": 82,
   "metadata": {
    "scrolled": true
   },
   "outputs": [
    {
     "data": {
      "text/plain": [
       "LinearRegression(copy_X=True, fit_intercept=True, n_jobs=None,\n",
       "         normalize=False)"
      ]
     },
     "execution_count": 82,
     "metadata": {},
     "output_type": "execute_result"
    }
   ],
   "source": [
    "bench = LinearRegression()\n",
    "bench.fit(X_train, y_train)"
   ]
  },
  {
   "cell_type": "code",
   "execution_count": 86,
   "metadata": {
    "scrolled": true
   },
   "outputs": [
    {
     "data": {
      "text/html": [
       "<div>\n",
       "<style scoped>\n",
       "    .dataframe tbody tr th:only-of-type {\n",
       "        vertical-align: middle;\n",
       "    }\n",
       "\n",
       "    .dataframe tbody tr th {\n",
       "        vertical-align: top;\n",
       "    }\n",
       "\n",
       "    .dataframe thead th {\n",
       "        text-align: right;\n",
       "    }\n",
       "</style>\n",
       "<table border=\"1\" class=\"dataframe\">\n",
       "  <thead>\n",
       "    <tr style=\"text-align: right;\">\n",
       "      <th></th>\n",
       "      <th>Benchmark</th>\n",
       "      <th>Ridge</th>\n",
       "      <th>Lasso</th>\n",
       "    </tr>\n",
       "  </thead>\n",
       "  <tbody>\n",
       "    <tr>\n",
       "      <th>Gender_M</th>\n",
       "      <td>-46.491437</td>\n",
       "      <td>-46.415595</td>\n",
       "      <td>-46.408269</td>\n",
       "    </tr>\n",
       "    <tr>\n",
       "      <th>Age_18-25</th>\n",
       "      <td>-176.086286</td>\n",
       "      <td>-176.099397</td>\n",
       "      <td>-177.034550</td>\n",
       "    </tr>\n",
       "    <tr>\n",
       "      <th>Age_26-35</th>\n",
       "      <td>-77.922824</td>\n",
       "      <td>-77.949931</td>\n",
       "      <td>-78.987016</td>\n",
       "    </tr>\n",
       "    <tr>\n",
       "      <th>Age_36-45</th>\n",
       "      <td>60.527812</td>\n",
       "      <td>60.455177</td>\n",
       "      <td>59.418426</td>\n",
       "    </tr>\n",
       "    <tr>\n",
       "      <th>Age_46-50</th>\n",
       "      <td>73.514200</td>\n",
       "      <td>73.387553</td>\n",
       "      <td>72.222790</td>\n",
       "    </tr>\n",
       "    <tr>\n",
       "      <th>Age_51-55</th>\n",
       "      <td>314.496030</td>\n",
       "      <td>314.354020</td>\n",
       "      <td>313.189305</td>\n",
       "    </tr>\n",
       "    <tr>\n",
       "      <th>Age_55+</th>\n",
       "      <td>215.047099</td>\n",
       "      <td>214.857775</td>\n",
       "      <td>213.735596</td>\n",
       "    </tr>\n",
       "    <tr>\n",
       "      <th>Occupation_1</th>\n",
       "      <td>-41.326877</td>\n",
       "      <td>-41.356880</td>\n",
       "      <td>-41.792840</td>\n",
       "    </tr>\n",
       "    <tr>\n",
       "      <th>Occupation_2</th>\n",
       "      <td>37.683711</td>\n",
       "      <td>37.637690</td>\n",
       "      <td>36.847090</td>\n",
       "    </tr>\n",
       "    <tr>\n",
       "      <th>Occupation_3</th>\n",
       "      <td>238.500276</td>\n",
       "      <td>238.438344</td>\n",
       "      <td>237.598400</td>\n",
       "    </tr>\n",
       "    <tr>\n",
       "      <th>Occupation_4</th>\n",
       "      <td>156.039041</td>\n",
       "      <td>156.002699</td>\n",
       "      <td>155.281495</td>\n",
       "    </tr>\n",
       "    <tr>\n",
       "      <th>Occupation_5</th>\n",
       "      <td>12.079795</td>\n",
       "      <td>12.065000</td>\n",
       "      <td>11.029573</td>\n",
       "    </tr>\n",
       "    <tr>\n",
       "      <th>Occupation_6</th>\n",
       "      <td>178.177733</td>\n",
       "      <td>178.156891</td>\n",
       "      <td>177.362718</td>\n",
       "    </tr>\n",
       "    <tr>\n",
       "      <th>Occupation_7</th>\n",
       "      <td>121.659683</td>\n",
       "      <td>121.639831</td>\n",
       "      <td>120.984060</td>\n",
       "    </tr>\n",
       "    <tr>\n",
       "      <th>Occupation_8</th>\n",
       "      <td>-336.457634</td>\n",
       "      <td>-336.035088</td>\n",
       "      <td>-333.467523</td>\n",
       "    </tr>\n",
       "    <tr>\n",
       "      <th>Occupation_9</th>\n",
       "      <td>124.699963</td>\n",
       "      <td>124.611280</td>\n",
       "      <td>123.245434</td>\n",
       "    </tr>\n",
       "    <tr>\n",
       "      <th>Occupation_10</th>\n",
       "      <td>-62.185298</td>\n",
       "      <td>-62.287753</td>\n",
       "      <td>-63.271687</td>\n",
       "    </tr>\n",
       "    <tr>\n",
       "      <th>Occupation_11</th>\n",
       "      <td>111.682069</td>\n",
       "      <td>111.615630</td>\n",
       "      <td>110.632065</td>\n",
       "    </tr>\n",
       "    <tr>\n",
       "      <th>Occupation_12</th>\n",
       "      <td>283.650340</td>\n",
       "      <td>283.656226</td>\n",
       "      <td>282.867988</td>\n",
       "    </tr>\n",
       "    <tr>\n",
       "      <th>Occupation_13</th>\n",
       "      <td>115.270578</td>\n",
       "      <td>115.234913</td>\n",
       "      <td>114.107551</td>\n",
       "    </tr>\n",
       "    <tr>\n",
       "      <th>Occupation_14</th>\n",
       "      <td>197.723247</td>\n",
       "      <td>197.720839</td>\n",
       "      <td>196.925072</td>\n",
       "    </tr>\n",
       "    <tr>\n",
       "      <th>Occupation_15</th>\n",
       "      <td>385.631000</td>\n",
       "      <td>385.577687</td>\n",
       "      <td>384.581585</td>\n",
       "    </tr>\n",
       "    <tr>\n",
       "      <th>Occupation_16</th>\n",
       "      <td>112.139143</td>\n",
       "      <td>112.119639</td>\n",
       "      <td>111.359987</td>\n",
       "    </tr>\n",
       "    <tr>\n",
       "      <th>Occupation_17</th>\n",
       "      <td>182.627706</td>\n",
       "      <td>182.637931</td>\n",
       "      <td>181.918303</td>\n",
       "    </tr>\n",
       "    <tr>\n",
       "      <th>Occupation_18</th>\n",
       "      <td>-57.769160</td>\n",
       "      <td>-57.797546</td>\n",
       "      <td>-57.531104</td>\n",
       "    </tr>\n",
       "    <tr>\n",
       "      <th>Occupation_19</th>\n",
       "      <td>-339.331808</td>\n",
       "      <td>-339.335049</td>\n",
       "      <td>-339.385470</td>\n",
       "    </tr>\n",
       "    <tr>\n",
       "      <th>Occupation_20</th>\n",
       "      <td>-93.011343</td>\n",
       "      <td>-93.057553</td>\n",
       "      <td>-93.475934</td>\n",
       "    </tr>\n",
       "    <tr>\n",
       "      <th>City_Category_B</th>\n",
       "      <td>128.740545</td>\n",
       "      <td>128.743313</td>\n",
       "      <td>128.657583</td>\n",
       "    </tr>\n",
       "    <tr>\n",
       "      <th>City_Category_C</th>\n",
       "      <td>558.837058</td>\n",
       "      <td>558.871911</td>\n",
       "      <td>558.762777</td>\n",
       "    </tr>\n",
       "    <tr>\n",
       "      <th>Stay_In_Current_City_Years_1</th>\n",
       "      <td>-9.695313</td>\n",
       "      <td>-9.685396</td>\n",
       "      <td>-9.611461</td>\n",
       "    </tr>\n",
       "    <tr>\n",
       "      <th>Stay_In_Current_City_Years_2</th>\n",
       "      <td>35.244054</td>\n",
       "      <td>35.257451</td>\n",
       "      <td>35.240359</td>\n",
       "    </tr>\n",
       "    <tr>\n",
       "      <th>Stay_In_Current_City_Years_3</th>\n",
       "      <td>-10.257904</td>\n",
       "      <td>-10.241866</td>\n",
       "      <td>-10.134304</td>\n",
       "    </tr>\n",
       "    <tr>\n",
       "      <th>Stay_In_Current_City_Years_4+</th>\n",
       "      <td>15.635736</td>\n",
       "      <td>15.638434</td>\n",
       "      <td>15.614408</td>\n",
       "    </tr>\n",
       "    <tr>\n",
       "      <th>Marital_Status_1</th>\n",
       "      <td>-57.790630</td>\n",
       "      <td>-57.786987</td>\n",
       "      <td>-57.651082</td>\n",
       "    </tr>\n",
       "    <tr>\n",
       "      <th>Product_Category_1_2</th>\n",
       "      <td>-2344.753651</td>\n",
       "      <td>-2343.942778</td>\n",
       "      <td>-2344.325921</td>\n",
       "    </tr>\n",
       "    <tr>\n",
       "      <th>Product_Category_1_3</th>\n",
       "      <td>-3481.300812</td>\n",
       "      <td>-3480.384535</td>\n",
       "      <td>-3480.857472</td>\n",
       "    </tr>\n",
       "    <tr>\n",
       "      <th>Product_Category_1_4</th>\n",
       "      <td>-11240.023640</td>\n",
       "      <td>-11237.954193</td>\n",
       "      <td>-11239.376302</td>\n",
       "    </tr>\n",
       "    <tr>\n",
       "      <th>Product_Category_1_5</th>\n",
       "      <td>-7341.979886</td>\n",
       "      <td>-7341.237208</td>\n",
       "      <td>-7341.740382</td>\n",
       "    </tr>\n",
       "    <tr>\n",
       "      <th>Product_Category_1_6</th>\n",
       "      <td>2244.662574</td>\n",
       "      <td>2245.171214</td>\n",
       "      <td>2244.599263</td>\n",
       "    </tr>\n",
       "    <tr>\n",
       "      <th>Product_Category_1_7</th>\n",
       "      <td>2836.117438</td>\n",
       "      <td>2835.692602</td>\n",
       "      <td>2834.834149</td>\n",
       "    </tr>\n",
       "    <tr>\n",
       "      <th>Product_Category_1_8</th>\n",
       "      <td>-6098.327640</td>\n",
       "      <td>-6097.569236</td>\n",
       "      <td>-6098.056722</td>\n",
       "    </tr>\n",
       "    <tr>\n",
       "      <th>Product_Category_1_9</th>\n",
       "      <td>2017.109502</td>\n",
       "      <td>2010.688845</td>\n",
       "      <td>2004.042560</td>\n",
       "    </tr>\n",
       "    <tr>\n",
       "      <th>Product_Category_1_10</th>\n",
       "      <td>5996.246647</td>\n",
       "      <td>5995.230651</td>\n",
       "      <td>5995.409021</td>\n",
       "    </tr>\n",
       "    <tr>\n",
       "      <th>Product_Category_1_11</th>\n",
       "      <td>-8893.108821</td>\n",
       "      <td>-8891.914436</td>\n",
       "      <td>-8892.724952</td>\n",
       "    </tr>\n",
       "    <tr>\n",
       "      <th>Product_Category_1_12</th>\n",
       "      <td>-12278.788234</td>\n",
       "      <td>-12273.479501</td>\n",
       "      <td>-12277.099049</td>\n",
       "    </tr>\n",
       "    <tr>\n",
       "      <th>Product_Category_1_13</th>\n",
       "      <td>-12883.026818</td>\n",
       "      <td>-12879.023609</td>\n",
       "      <td>-12881.836795</td>\n",
       "    </tr>\n",
       "    <tr>\n",
       "      <th>Product_Category_1_14</th>\n",
       "      <td>-470.313411</td>\n",
       "      <td>-469.172061</td>\n",
       "      <td>-466.483545</td>\n",
       "    </tr>\n",
       "    <tr>\n",
       "      <th>Product_Category_1_15</th>\n",
       "      <td>1155.956802</td>\n",
       "      <td>1156.354432</td>\n",
       "      <td>1155.287208</td>\n",
       "    </tr>\n",
       "    <tr>\n",
       "      <th>Product_Category_1_16</th>\n",
       "      <td>1175.379005</td>\n",
       "      <td>1175.875509</td>\n",
       "      <td>1175.031650</td>\n",
       "    </tr>\n",
       "    <tr>\n",
       "      <th>Product_Category_1_17</th>\n",
       "      <td>-3483.180741</td>\n",
       "      <td>-3474.137121</td>\n",
       "      <td>-3473.855902</td>\n",
       "    </tr>\n",
       "    <tr>\n",
       "      <th>Product_Category_1_18</th>\n",
       "      <td>-10669.250657</td>\n",
       "      <td>-10663.666188</td>\n",
       "      <td>-10667.287250</td>\n",
       "    </tr>\n",
       "  </tbody>\n",
       "</table>\n",
       "</div>"
      ],
      "text/plain": [
       "                                  Benchmark         Ridge         Lasso\n",
       "Gender_M                         -46.491437    -46.415595    -46.408269\n",
       "Age_18-25                       -176.086286   -176.099397   -177.034550\n",
       "Age_26-35                        -77.922824    -77.949931    -78.987016\n",
       "Age_36-45                         60.527812     60.455177     59.418426\n",
       "Age_46-50                         73.514200     73.387553     72.222790\n",
       "Age_51-55                        314.496030    314.354020    313.189305\n",
       "Age_55+                          215.047099    214.857775    213.735596\n",
       "Occupation_1                     -41.326877    -41.356880    -41.792840\n",
       "Occupation_2                      37.683711     37.637690     36.847090\n",
       "Occupation_3                     238.500276    238.438344    237.598400\n",
       "Occupation_4                     156.039041    156.002699    155.281495\n",
       "Occupation_5                      12.079795     12.065000     11.029573\n",
       "Occupation_6                     178.177733    178.156891    177.362718\n",
       "Occupation_7                     121.659683    121.639831    120.984060\n",
       "Occupation_8                    -336.457634   -336.035088   -333.467523\n",
       "Occupation_9                     124.699963    124.611280    123.245434\n",
       "Occupation_10                    -62.185298    -62.287753    -63.271687\n",
       "Occupation_11                    111.682069    111.615630    110.632065\n",
       "Occupation_12                    283.650340    283.656226    282.867988\n",
       "Occupation_13                    115.270578    115.234913    114.107551\n",
       "Occupation_14                    197.723247    197.720839    196.925072\n",
       "Occupation_15                    385.631000    385.577687    384.581585\n",
       "Occupation_16                    112.139143    112.119639    111.359987\n",
       "Occupation_17                    182.627706    182.637931    181.918303\n",
       "Occupation_18                    -57.769160    -57.797546    -57.531104\n",
       "Occupation_19                   -339.331808   -339.335049   -339.385470\n",
       "Occupation_20                    -93.011343    -93.057553    -93.475934\n",
       "City_Category_B                  128.740545    128.743313    128.657583\n",
       "City_Category_C                  558.837058    558.871911    558.762777\n",
       "Stay_In_Current_City_Years_1      -9.695313     -9.685396     -9.611461\n",
       "Stay_In_Current_City_Years_2      35.244054     35.257451     35.240359\n",
       "Stay_In_Current_City_Years_3     -10.257904    -10.241866    -10.134304\n",
       "Stay_In_Current_City_Years_4+     15.635736     15.638434     15.614408\n",
       "Marital_Status_1                 -57.790630    -57.786987    -57.651082\n",
       "Product_Category_1_2           -2344.753651  -2343.942778  -2344.325921\n",
       "Product_Category_1_3           -3481.300812  -3480.384535  -3480.857472\n",
       "Product_Category_1_4          -11240.023640 -11237.954193 -11239.376302\n",
       "Product_Category_1_5           -7341.979886  -7341.237208  -7341.740382\n",
       "Product_Category_1_6            2244.662574   2245.171214   2244.599263\n",
       "Product_Category_1_7            2836.117438   2835.692602   2834.834149\n",
       "Product_Category_1_8           -6098.327640  -6097.569236  -6098.056722\n",
       "Product_Category_1_9            2017.109502   2010.688845   2004.042560\n",
       "Product_Category_1_10           5996.246647   5995.230651   5995.409021\n",
       "Product_Category_1_11          -8893.108821  -8891.914436  -8892.724952\n",
       "Product_Category_1_12         -12278.788234 -12273.479501 -12277.099049\n",
       "Product_Category_1_13         -12883.026818 -12879.023609 -12881.836795\n",
       "Product_Category_1_14           -470.313411   -469.172061   -466.483545\n",
       "Product_Category_1_15           1155.956802   1156.354432   1155.287208\n",
       "Product_Category_1_16           1175.379005   1175.875509   1175.031650\n",
       "Product_Category_1_17          -3483.180741  -3474.137121  -3473.855902\n",
       "Product_Category_1_18         -10669.250657 -10663.666188 -10667.287250"
      ]
     },
     "execution_count": 86,
     "metadata": {},
     "output_type": "execute_result"
    }
   ],
   "source": [
    "pd.DataFrame(data={'Benchmark':bench.coef_,'Ridge': ridge.coef_, 'Lasso': lasso.coef_}, index=X_train.columns)"
   ]
  },
  {
   "cell_type": "markdown",
   "metadata": {},
   "source": [
    "The coefficient all looks very similar. To truly see a difference we should set higher alpha. However, we would loose in terms of prediction score. "
   ]
  },
  {
   "cell_type": "markdown",
   "metadata": {},
   "source": [
    "### Comperison benchmark vs Ridge and Lasso"
   ]
  },
  {
   "cell_type": "code",
   "execution_count": 93,
   "metadata": {},
   "outputs": [],
   "source": [
    "from sklearn.linear_model import Ridge, Lasso"
   ]
  },
  {
   "cell_type": "code",
   "execution_count": 96,
   "metadata": {},
   "outputs": [],
   "source": [
    "ridge2 = Ridge(alpha = 1)\n",
    "ridge3 = Ridge(alpha = 10)\n",
    "lasso2 = Lasso(alpha = 0.01)\n",
    "lasso3 = Lasso(alpha = 1)"
   ]
  },
  {
   "cell_type": "markdown",
   "metadata": {},
   "source": [
    "We run our cross-validation function on ridge and lasso to get the RMSE for the model comparison. We use the optimal alphas coming from the previous cross validation, as well as higher alphas to see the effect of a much restricted model."
   ]
  },
  {
   "cell_type": "code",
   "execution_count": 97,
   "metadata": {},
   "outputs": [],
   "source": [
    "ridge_cv1 = kfold_cv(model=ridge2, X_train=X_train, y_train=y_train)"
   ]
  },
  {
   "cell_type": "code",
   "execution_count": 98,
   "metadata": {},
   "outputs": [],
   "source": [
    "ridge_cv2 = kfold_cv(model=ridge3, X_train=X_train, y_train=y_train)"
   ]
  },
  {
   "cell_type": "code",
   "execution_count": 99,
   "metadata": {},
   "outputs": [],
   "source": [
    "lasso_cv1 = kfold_cv(model=lasso2, X_train=X_train, y_train=y_train)"
   ]
  },
  {
   "cell_type": "code",
   "execution_count": 103,
   "metadata": {},
   "outputs": [],
   "source": [
    "lasso_cv2 = kfold_cv(model=lasso3, X_train=X_train, y_train=y_train)"
   ]
  },
  {
   "cell_type": "code",
   "execution_count": 104,
   "metadata": {},
   "outputs": [
    {
     "data": {
      "text/html": [
       "<div>\n",
       "<style scoped>\n",
       "    .dataframe tbody tr th:only-of-type {\n",
       "        vertical-align: middle;\n",
       "    }\n",
       "\n",
       "    .dataframe tbody tr th {\n",
       "        vertical-align: top;\n",
       "    }\n",
       "\n",
       "    .dataframe thead th {\n",
       "        text-align: right;\n",
       "    }\n",
       "</style>\n",
       "<table border=\"1\" class=\"dataframe\">\n",
       "  <thead>\n",
       "    <tr style=\"text-align: right;\">\n",
       "      <th></th>\n",
       "      <th>Benchmark</th>\n",
       "      <th>Ridge - 1</th>\n",
       "      <th>Ridge - 10</th>\n",
       "      <th>Lasso - 0.01</th>\n",
       "      <th>Lasso - 1</th>\n",
       "    </tr>\n",
       "  </thead>\n",
       "  <tbody>\n",
       "    <tr>\n",
       "      <th>RMSE validation</th>\n",
       "      <td>3027.93</td>\n",
       "      <td>3027.93</td>\n",
       "      <td>3027.94</td>\n",
       "      <td>3027.93</td>\n",
       "      <td>3028.72</td>\n",
       "    </tr>\n",
       "    <tr>\n",
       "      <th>RMSE train</th>\n",
       "      <td>3027.61</td>\n",
       "      <td>3027.61</td>\n",
       "      <td>3027.62</td>\n",
       "      <td>3027.61</td>\n",
       "      <td>3028.44</td>\n",
       "    </tr>\n",
       "  </tbody>\n",
       "</table>\n",
       "</div>"
      ],
      "text/plain": [
       "                 Benchmark  Ridge - 1  Ridge - 10  Lasso - 0.01  Lasso - 1\n",
       "RMSE validation    3027.93    3027.93     3027.94       3027.93    3028.72\n",
       "RMSE train         3027.61    3027.61     3027.62       3027.61    3028.44"
      ]
     },
     "execution_count": 104,
     "metadata": {},
     "output_type": "execute_result"
    }
   ],
   "source": [
    "pd.DataFrame(data={'Benchmark':[round(ols_bench_cv['rmse_test'].mean(),2), round(ols_bench_cv['rmse_train'].mean(),2)],\n",
    "                   'Ridge - 1': [round(ridge_cv1['rmse_test'].mean(),2), round(ridge_cv1['rmse_train'].mean(),2)], \n",
    "                   'Ridge - 10': [round(ridge_cv2['rmse_test'].mean(),2), round(ridge_cv2['rmse_train'].mean(),2)], \n",
    "                   'Lasso - 0.01': [round(lasso_cv1['rmse_test'].mean(),2), round(lasso_cv1['rmse_train'].mean(),2)], \n",
    "                   'Lasso - 1': [round(lasso_cv2['rmse_test'].mean(),2), round(lasso_cv2['rmse_train'].mean(),2)]}, \n",
    "             index=['RMSE validation', 'RMSE train'])"
   ]
  },
  {
   "cell_type": "markdown",
   "metadata": {},
   "source": [
    "## Random Forests"
   ]
  },
  {
   "cell_type": "markdown",
   "metadata": {},
   "source": [
    "Regressions can be performed also using random forests. These are particularly powerful because they train several weak estimators and ensemble them together.\n",
    "In particular, we will use ExtraTreesRegressor. Extra-trees differ from classic decision trees in the way they are built. When looking for the best split to separate the samples of a node into two groups, random splits are drawn for each of the max_features randomly selected features and the best split among those is chosen. \n",
    "\n",
    "We tried using GridSearch, but given the dimension of the dataset, it takes too long to run. We were not able to use it. Therefore, we will use kfold_cv on specific subsets of hyperparameters. It is not as efficient as a grid search, but at least the code is able to run in a reasonable amount of time."
   ]
  },
  {
   "cell_type": "code",
   "execution_count": 71,
   "metadata": {},
   "outputs": [],
   "source": [
    "from sklearn.ensemble import ExtraTreesRegressor"
   ]
  },
  {
   "cell_type": "markdown",
   "metadata": {},
   "source": [
    "We define three models. In the first we constrain the number of trees and max_depth to prevent overfitting. In the second we release a bit the constraint on the number of trees, but we tighten the constraint on the depth. In the last model, we also release the constraint on the depth. \n",
    "\n",
    "The max_features parameter determines the number of features to consider when looking for the best split. In our case it will randomly look at a number of features equal to the square root of the total number of features. This hyper-parameter, together with the bootstrap option, helps the algorithm run faster. Even if in each tree we might miss an important feature for the split, the ensembling ensures that overall we get the \"full picture\". "
   ]
  },
  {
   "cell_type": "code",
   "execution_count": 77,
   "metadata": {},
   "outputs": [],
   "source": [
    "forest1 = ExtraTreesRegressor(n_estimators=50, max_depth=50, max_features='sqrt',random_state=13, bootstrap=True)\n",
    "forest2 = ExtraTreesRegressor(n_estimators=100, max_depth=20,  max_features='sqrt',random_state=13, bootstrap=True)\n",
    "forest3 = ExtraTreesRegressor(n_estimators=100, max_depth=50,  max_features='sqrt',random_state=13, bootstrap=True)"
   ]
  },
  {
   "cell_type": "markdown",
   "metadata": {},
   "source": [
    "### Forest 1"
   ]
  },
  {
   "cell_type": "code",
   "execution_count": 78,
   "metadata": {},
   "outputs": [],
   "source": [
    "forest1_cv = kfold_cv(forest1, X_train, y_train, cv=20)"
   ]
  },
  {
   "cell_type": "code",
   "execution_count": 79,
   "metadata": {},
   "outputs": [
    {
     "name": "stdout",
     "output_type": "stream",
     "text": [
      "R2 score:  0.69\n",
      "RMSE on train sample:  2774.18\n",
      "RMSE on validation sample:  2964.7\n",
      "MSE on train sample:  7696098.26\n",
      "MSE on validation sample:  8789799.34\n",
      "MAE on train sample:  2049.3\n",
      "MAE on validation sample:  2188.99\n"
     ]
    }
   ],
   "source": [
    "print('R2 score: ', round(forest1_cv['R_2_score'].mean(),2))\n",
    "print('RMSE on train sample: ', round(forest1_cv['rmse_train'].mean(),2))\n",
    "print('RMSE on validation sample: ', round(forest1_cv['rmse_test'].mean(),2))\n",
    "print('MSE on train sample: ', round(forest1_cv['mse_train'].mean(),2))\n",
    "print('MSE on validation sample: ', round(forest1_cv['mse_test'].mean(),2))\n",
    "print('MAE on train sample: ', round(forest1_cv['mae_train'].mean(),2))\n",
    "print('MAE on validation sample: ', round(forest1_cv['mae_test'].mean(),2))"
   ]
  },
  {
   "cell_type": "markdown",
   "metadata": {},
   "source": [
    "The first random forest performed significantly better than the benchmark model in terms of R2; however, lokking at the other metrics, it seems like it overfit a little. "
   ]
  },
  {
   "cell_type": "markdown",
   "metadata": {},
   "source": [
    "### Forest 2"
   ]
  },
  {
   "cell_type": "code",
   "execution_count": 87,
   "metadata": {},
   "outputs": [],
   "source": [
    "forest2_cv = kfold_cv(forest2, X_train, y_train, cv=20)"
   ]
  },
  {
   "cell_type": "code",
   "execution_count": 88,
   "metadata": {},
   "outputs": [
    {
     "name": "stdout",
     "output_type": "stream",
     "text": [
      "R2 score:  0.64\n",
      "RMSE on train sample:  2977.0\n",
      "RMSE on validation sample:  3026.21\n",
      "MSE on train sample:  8862535.89\n",
      "MSE on validation sample:  9158302.06\n",
      "MAE on train sample:  2247.3\n",
      "MAE on validation sample:  2283.48\n"
     ]
    }
   ],
   "source": [
    "print('R2 score: ', round(forest2_cv['R_2_score'].mean(),2))\n",
    "print('RMSE on train sample: ', round(forest2_cv['rmse_train'].mean(),2))\n",
    "print('RMSE on validation sample: ', round(forest2_cv['rmse_test'].mean(),2))\n",
    "print('MSE on train sample: ', round(forest2_cv['mse_train'].mean(),2))\n",
    "print('MSE on validation sample: ', round(forest2_cv['mse_test'].mean(),2))\n",
    "print('MAE on train sample: ', round(forest2_cv['mae_train'].mean(),2))\n",
    "print('MAE on validation sample: ', round(forest2_cv['mae_test'].mean(),2))"
   ]
  },
  {
   "cell_type": "markdown",
   "metadata": {},
   "source": [
    "Forest 2 is still better than the benchmark in terms of R2; however it overfits a little and  the RMSE, MSE and MAE are higher than forest 1's ones."
   ]
  },
  {
   "cell_type": "markdown",
   "metadata": {},
   "source": [
    "### Forest 3"
   ]
  },
  {
   "cell_type": "code",
   "execution_count": 89,
   "metadata": {},
   "outputs": [],
   "source": [
    "forest3_cv = kfold_cv(forest3, X_train, y_train, cv=20)"
   ]
  },
  {
   "cell_type": "code",
   "execution_count": 91,
   "metadata": {},
   "outputs": [
    {
     "name": "stdout",
     "output_type": "stream",
     "text": [
      "R2 score:  0.69\n",
      "RMSE on train sample:  2773.22\n",
      "RMSE on validation sample:  2963.52\n",
      "MSE on train sample:  7690724.91\n",
      "MSE on validation sample:  8782829.24\n",
      "MAE on train sample:  2048.55\n",
      "MAE on validation sample:  2187.96\n"
     ]
    }
   ],
   "source": [
    "print('R2 score: ', round(forest3_cv['R_2_score'].mean(),2))\n",
    "print('RMSE on train sample: ', round(forest3_cv['rmse_train'].mean(),2))\n",
    "print('RMSE on validation sample: ', round(forest3_cv['rmse_test'].mean(),2))\n",
    "print('MSE on train sample: ', round(forest3_cv['mse_train'].mean(),2))\n",
    "print('MSE on validation sample: ', round(forest3_cv['mse_test'].mean(),2))\n",
    "print('MAE on train sample: ', round(forest3_cv['mae_train'].mean(),2))\n",
    "print('MAE on validation sample: ', round(forest3_cv['mae_test'].mean(),2))"
   ]
  },
  {
   "cell_type": "markdown",
   "metadata": {},
   "source": [
    "The R2 score is up again. It looks like reducing the depth truly affect the score of the regression. As ususal, this model is better than the benchmark, but it overfits."
   ]
  },
  {
   "cell_type": "markdown",
   "metadata": {},
   "source": [
    "### Comparison benchmark vs forest"
   ]
  },
  {
   "cell_type": "code",
   "execution_count": 92,
   "metadata": {},
   "outputs": [
    {
     "data": {
      "text/html": [
       "<div>\n",
       "<style scoped>\n",
       "    .dataframe tbody tr th:only-of-type {\n",
       "        vertical-align: middle;\n",
       "    }\n",
       "\n",
       "    .dataframe tbody tr th {\n",
       "        vertical-align: top;\n",
       "    }\n",
       "\n",
       "    .dataframe thead th {\n",
       "        text-align: right;\n",
       "    }\n",
       "</style>\n",
       "<table border=\"1\" class=\"dataframe\">\n",
       "  <thead>\n",
       "    <tr style=\"text-align: right;\">\n",
       "      <th></th>\n",
       "      <th>Benchmark</th>\n",
       "      <th>Forest 1</th>\n",
       "      <th>Forest 2</th>\n",
       "      <th>Forest 3</th>\n",
       "    </tr>\n",
       "  </thead>\n",
       "  <tbody>\n",
       "    <tr>\n",
       "      <th>RMSE validation</th>\n",
       "      <td>3027.93</td>\n",
       "      <td>2964.70</td>\n",
       "      <td>3026.21</td>\n",
       "      <td>2963.52</td>\n",
       "    </tr>\n",
       "    <tr>\n",
       "      <th>RMSE train</th>\n",
       "      <td>3027.61</td>\n",
       "      <td>2774.18</td>\n",
       "      <td>2977.00</td>\n",
       "      <td>2773.22</td>\n",
       "    </tr>\n",
       "  </tbody>\n",
       "</table>\n",
       "</div>"
      ],
      "text/plain": [
       "                 Benchmark  Forest 1  Forest 2  Forest 3\n",
       "RMSE validation    3027.93   2964.70   3026.21   2963.52\n",
       "RMSE train         3027.61   2774.18   2977.00   2773.22"
      ]
     },
     "execution_count": 92,
     "metadata": {},
     "output_type": "execute_result"
    }
   ],
   "source": [
    "pd.DataFrame(data={'Benchmark':[round(ols_bench_cv['rmse_test'].mean(),2), round(ols_bench_cv['rmse_train'].mean(),2)],\n",
    "                   'Forest 1': [round(forest1_cv['rmse_test'].mean(),2), round(forest1_cv['rmse_train'].mean(),2)], \n",
    "                   'Forest 2': [round(forest2_cv['rmse_test'].mean(),2), round(forest2_cv['rmse_train'].mean(),2)], \n",
    "                   'Forest 3': [round(forest3_cv['rmse_test'].mean(),2), round(forest3_cv['rmse_train'].mean(),2)]}, \n",
    "             index=['RMSE validation', 'RMSE train'])"
   ]
  },
  {
   "cell_type": "markdown",
   "metadata": {},
   "source": [
    "It looks like Forest 3 is the best performer. However, compared to the ols, we have some overfitting."
   ]
  },
  {
   "cell_type": "markdown",
   "metadata": {},
   "source": [
    "## Neural Networks"
   ]
  },
  {
   "cell_type": "markdown",
   "metadata": {},
   "source": [
    "Another way we can try to predict the purchase is using neural network. Below, we build a sequential network, with three hidden layers, with 100, 75 and 50 neurons respectively. "
   ]
  },
  {
   "cell_type": "code",
   "execution_count": 112,
   "metadata": {},
   "outputs": [],
   "source": [
    "from keras.models import Sequential\n",
    "from keras.layers import Dense #in this way all the neurons in a layer will be connected with the ones \n",
    "#in the previous and following layer.\n",
    "from keras.callbacks import ModelCheckpoint #to save the weights of the best model"
   ]
  },
  {
   "cell_type": "code",
   "execution_count": 113,
   "metadata": {
    "scrolled": true
   },
   "outputs": [
    {
     "name": "stdout",
     "output_type": "stream",
     "text": [
      "WARNING:tensorflow:From /home/al1190/anaconda3/lib/python3.7/site-packages/tensorflow/python/framework/op_def_library.py:263: colocate_with (from tensorflow.python.framework.ops) is deprecated and will be removed in a future version.\n",
      "Instructions for updating:\n",
      "Colocations handled automatically by placer.\n",
      "_________________________________________________________________\n",
      "Layer (type)                 Output Shape              Param #   \n",
      "=================================================================\n",
      "dense_1 (Dense)              (None, 51)                2652      \n",
      "_________________________________________________________________\n",
      "dense_2 (Dense)              (None, 100)               5200      \n",
      "_________________________________________________________________\n",
      "dense_3 (Dense)              (None, 75)                7575      \n",
      "_________________________________________________________________\n",
      "dense_4 (Dense)              (None, 50)                3800      \n",
      "_________________________________________________________________\n",
      "dense_5 (Dense)              (None, 1)                 51        \n",
      "=================================================================\n",
      "Total params: 19,278\n",
      "Trainable params: 19,278\n",
      "Non-trainable params: 0\n",
      "_________________________________________________________________\n"
     ]
    }
   ],
   "source": [
    "#Initializing a sequential model\n",
    "NN_reg = Sequential()\n",
    "\n",
    "# The Input Layer :\n",
    "NN_reg.add(Dense(51, kernel_initializer='normal',input_dim = X_train.shape[1], activation='relu'))\n",
    "\n",
    "# The Hidden Layers :\n",
    "NN_reg.add(Dense(100, kernel_initializer='normal',activation='relu'))\n",
    "NN_reg.add(Dense(75, kernel_initializer='normal',activation='relu'))\n",
    "NN_reg.add(Dense(50, kernel_initializer='normal',activation='relu'))\n",
    "\n",
    "# The Output Layer :\n",
    "NN_reg.add(Dense(1, kernel_initializer='normal',activation='linear'))\n",
    "\n",
    "# Compile the network :\n",
    "NN_reg.compile(loss='mean_squared_error', optimizer='adam', metrics=['mean_squared_error'])\n",
    "NN_reg.summary()"
   ]
  },
  {
   "cell_type": "markdown",
   "metadata": {},
   "source": [
    "Here we create the checkpoint file, to save the model weights."
   ]
  },
  {
   "cell_type": "code",
   "execution_count": 38,
   "metadata": {},
   "outputs": [],
   "source": [
    "checkpoint_name = 'Weights-{epoch:03d}--{val_loss:.5f}.hdf5' \n",
    "checkpoint = ModelCheckpoint(checkpoint_name, monitor='val_loss', verbose = 1, save_best_only = True, mode ='auto')\n",
    "callbacks_list = [checkpoint]"
   ]
  },
  {
   "cell_type": "code",
   "execution_count": 39,
   "metadata": {},
   "outputs": [
    {
     "name": "stdout",
     "output_type": "stream",
     "text": [
      "WARNING:tensorflow:From /home/al1190/anaconda3/lib/python3.7/site-packages/tensorflow/python/ops/math_ops.py:3066: to_int32 (from tensorflow.python.ops.math_ops) is deprecated and will be removed in a future version.\n",
      "Instructions for updating:\n",
      "Use tf.cast instead.\n",
      "Train on 301042 samples, validate on 75261 samples\n",
      "Epoch 1/100\n",
      "301042/301042 [==============================] - 41s 137us/step - loss: 11133911.5395 - mean_squared_error: 11133911.5395 - val_loss: 9395427.6960 - val_mean_squared_error: 9395427.6960\n",
      "\n",
      "Epoch 00001: val_loss improved from inf to 9395427.69598, saving model to Weights-001--9395427.69598.hdf5\n",
      "Epoch 2/100\n",
      "301042/301042 [==============================] - 36s 118us/step - loss: 9274581.6938 - mean_squared_error: 9274581.6938 - val_loss: 9224092.4620 - val_mean_squared_error: 9224092.4620\n",
      "\n",
      "Epoch 00002: val_loss improved from 9395427.69598 to 9224092.46199, saving model to Weights-002--9224092.46199.hdf5\n",
      "Epoch 3/100\n",
      "301042/301042 [==============================] - 37s 123us/step - loss: 9248758.0585 - mean_squared_error: 9248758.0585 - val_loss: 9182032.1149 - val_mean_squared_error: 9182032.1149\n",
      "\n",
      "Epoch 00003: val_loss improved from 9224092.46199 to 9182032.11486, saving model to Weights-003--9182032.11486.hdf5\n",
      "Epoch 4/100\n",
      "301042/301042 [==============================] - 38s 127us/step - loss: 9222010.7750 - mean_squared_error: 9222010.7750 - val_loss: 9292534.7865 - val_mean_squared_error: 9292534.7865\n",
      "\n",
      "Epoch 00004: val_loss did not improve from 9182032.11486\n",
      "Epoch 5/100\n",
      "301042/301042 [==============================] - 40s 132us/step - loss: 9191687.2756 - mean_squared_error: 9191687.2756 - val_loss: 9423224.0213 - val_mean_squared_error: 9423224.0213\n",
      "\n",
      "Epoch 00005: val_loss did not improve from 9182032.11486\n",
      "Epoch 6/100\n",
      "301042/301042 [==============================] - 41s 135us/step - loss: 9161262.5314 - mean_squared_error: 9161262.5314 - val_loss: 9180444.4914 - val_mean_squared_error: 9180444.4914\n",
      "\n",
      "Epoch 00006: val_loss improved from 9182032.11486 to 9180444.49140, saving model to Weights-006--9180444.49140.hdf5\n",
      "Epoch 7/100\n",
      "301042/301042 [==============================] - 42s 139us/step - loss: 9148378.3253 - mean_squared_error: 9148378.3253 - val_loss: 9165415.7523 - val_mean_squared_error: 9165415.7523\n",
      "\n",
      "Epoch 00007: val_loss improved from 9180444.49140 to 9165415.75234, saving model to Weights-007--9165415.75234.hdf5\n",
      "Epoch 8/100\n",
      "301042/301042 [==============================] - 35s 115us/step - loss: 9137227.1179 - mean_squared_error: 9137227.1179 - val_loss: 9083898.1737 - val_mean_squared_error: 9083898.1737\n",
      "\n",
      "Epoch 00008: val_loss improved from 9165415.75234 to 9083898.17369, saving model to Weights-008--9083898.17369.hdf5\n",
      "Epoch 9/100\n",
      "301042/301042 [==============================] - 34s 114us/step - loss: 9114051.8997 - mean_squared_error: 9114051.8997 - val_loss: 9071065.7875 - val_mean_squared_error: 9071065.7875\n",
      "\n",
      "Epoch 00009: val_loss improved from 9083898.17369 to 9071065.78747, saving model to Weights-009--9071065.78747.hdf5\n",
      "Epoch 10/100\n",
      "301042/301042 [==============================] - 32s 105us/step - loss: 9099335.9197 - mean_squared_error: 9099335.9197 - val_loss: 9072358.2845 - val_mean_squared_error: 9072358.2845\n",
      "\n",
      "Epoch 00010: val_loss did not improve from 9071065.78747\n",
      "Epoch 11/100\n",
      "301042/301042 [==============================] - 35s 118us/step - loss: 9074011.5609 - mean_squared_error: 9074011.5609 - val_loss: 9032564.4853 - val_mean_squared_error: 9032564.4853\n",
      "\n",
      "Epoch 00011: val_loss improved from 9071065.78747 to 9032564.48533, saving model to Weights-011--9032564.48533.hdf5\n",
      "Epoch 12/100\n",
      "301042/301042 [==============================] - 31s 103us/step - loss: 9047146.3530 - mean_squared_error: 9047146.3530 - val_loss: 9017390.8314 - val_mean_squared_error: 9017390.8314\n",
      "\n",
      "Epoch 00012: val_loss improved from 9032564.48533 to 9017390.83144, saving model to Weights-012--9017390.83144.hdf5\n",
      "Epoch 13/100\n",
      "301042/301042 [==============================] - 34s 114us/step - loss: 9019218.3056 - mean_squared_error: 9019218.3056 - val_loss: 9009619.5663 - val_mean_squared_error: 9009619.5663\n",
      "\n",
      "Epoch 00013: val_loss improved from 9017390.83144 to 9009619.56630, saving model to Weights-013--9009619.56630.hdf5\n",
      "Epoch 14/100\n",
      "301042/301042 [==============================] - 36s 119us/step - loss: 8991031.4971 - mean_squared_error: 8991031.4971 - val_loss: 9041578.6846 - val_mean_squared_error: 9041578.6846\n",
      "\n",
      "Epoch 00014: val_loss did not improve from 9009619.56630\n",
      "Epoch 15/100\n",
      "301042/301042 [==============================] - 31s 102us/step - loss: 8971648.2848 - mean_squared_error: 8971648.2848 - val_loss: 9066971.1931 - val_mean_squared_error: 9066971.1931\n",
      "\n",
      "Epoch 00015: val_loss did not improve from 9009619.56630\n",
      "Epoch 16/100\n",
      "301042/301042 [==============================] - 31s 103us/step - loss: 8944659.2034 - mean_squared_error: 8944659.2034 - val_loss: 8946850.2116 - val_mean_squared_error: 8946850.2116\n",
      "\n",
      "Epoch 00016: val_loss improved from 9009619.56630 to 8946850.21161, saving model to Weights-016--8946850.21161.hdf5\n",
      "Epoch 17/100\n",
      "301042/301042 [==============================] - 35s 116us/step - loss: 8927189.7721 - mean_squared_error: 8927189.7721 - val_loss: 8918252.5683 - val_mean_squared_error: 8918252.5683\n",
      "\n",
      "Epoch 00017: val_loss improved from 8946850.21161 to 8918252.56834, saving model to Weights-017--8918252.56834.hdf5\n",
      "Epoch 18/100\n",
      "301042/301042 [==============================] - 33s 110us/step - loss: 8901667.5827 - mean_squared_error: 8901667.5827 - val_loss: 8940806.0084 - val_mean_squared_error: 8940806.0084\n",
      "\n",
      "Epoch 00018: val_loss did not improve from 8918252.56834\n",
      "Epoch 19/100\n",
      "301042/301042 [==============================] - 31s 102us/step - loss: 8893076.9155 - mean_squared_error: 8893076.9155 - val_loss: 9076839.8219 - val_mean_squared_error: 9076839.8219\n",
      "\n",
      "Epoch 00019: val_loss did not improve from 8918252.56834\n",
      "Epoch 20/100\n",
      "301042/301042 [==============================] - 39s 128us/step - loss: 8872127.8344 - mean_squared_error: 8872127.8344 - val_loss: 8981153.9134 - val_mean_squared_error: 8981153.9134\n",
      "\n",
      "Epoch 00020: val_loss did not improve from 8918252.56834\n",
      "Epoch 21/100\n",
      "301042/301042 [==============================] - 30s 99us/step - loss: 8861751.8729 - mean_squared_error: 8861751.8729 - val_loss: 8906045.2055 - val_mean_squared_error: 8906045.2055\n",
      "\n",
      "Epoch 00021: val_loss improved from 8918252.56834 to 8906045.20551, saving model to Weights-021--8906045.20551.hdf5\n",
      "Epoch 22/100\n",
      "301042/301042 [==============================] - 33s 110us/step - loss: 8840677.2057 - mean_squared_error: 8840677.2057 - val_loss: 8907745.3248 - val_mean_squared_error: 8907745.3248\n",
      "\n",
      "Epoch 00022: val_loss did not improve from 8906045.20551\n",
      "Epoch 23/100\n",
      "301042/301042 [==============================] - 52s 173us/step - loss: 8830725.1352 - mean_squared_error: 8830725.1352 - val_loss: 8926752.7949 - val_mean_squared_error: 8926752.7949\n",
      "\n",
      "Epoch 00023: val_loss did not improve from 8906045.20551\n",
      "Epoch 24/100\n",
      "301042/301042 [==============================] - 31s 101us/step - loss: 8817805.2093 - mean_squared_error: 8817805.2093 - val_loss: 8934335.6712 - val_mean_squared_error: 8934335.6712\n",
      "\n",
      "Epoch 00024: val_loss did not improve from 8906045.20551\n",
      "Epoch 25/100\n",
      "301042/301042 [==============================] - 29s 97us/step - loss: 8800753.3545 - mean_squared_error: 8800753.3545 - val_loss: 8986941.8834 - val_mean_squared_error: 8986941.8834\n",
      "\n",
      "Epoch 00025: val_loss did not improve from 8906045.20551\n",
      "Epoch 26/100\n",
      "301042/301042 [==============================] - 30s 101us/step - loss: 8795768.9701 - mean_squared_error: 8795768.9701 - val_loss: 8908616.3613 - val_mean_squared_error: 8908616.3613\n",
      "\n",
      "Epoch 00026: val_loss did not improve from 8906045.20551\n",
      "Epoch 27/100\n",
      "301042/301042 [==============================] - 31s 103us/step - loss: 8781680.3691 - mean_squared_error: 8781680.3691 - val_loss: 9040879.9503 - val_mean_squared_error: 9040879.9503\n",
      "\n",
      "Epoch 00027: val_loss did not improve from 8906045.20551\n",
      "Epoch 28/100\n",
      "301042/301042 [==============================] - 33s 110us/step - loss: 8770471.1338 - mean_squared_error: 8770471.1338 - val_loss: 8838701.0592 - val_mean_squared_error: 8838701.0592\n",
      "\n",
      "Epoch 00028: val_loss improved from 8906045.20551 to 8838701.05925, saving model to Weights-028--8838701.05925.hdf5\n",
      "Epoch 29/100\n"
     ]
    },
    {
     "name": "stdout",
     "output_type": "stream",
     "text": [
      "301042/301042 [==============================] - 31s 104us/step - loss: 8760766.2613 - mean_squared_error: 8760766.2613 - val_loss: 8920942.7501 - val_mean_squared_error: 8920942.7501\n",
      "\n",
      "Epoch 00029: val_loss did not improve from 8838701.05925\n",
      "Epoch 30/100\n",
      "301042/301042 [==============================] - 42s 139us/step - loss: 8755981.9795 - mean_squared_error: 8755981.9795 - val_loss: 8889094.8781 - val_mean_squared_error: 8889094.8781\n",
      "\n",
      "Epoch 00030: val_loss did not improve from 8838701.05925\n",
      "Epoch 31/100\n",
      "301042/301042 [==============================] - 47s 158us/step - loss: 8743969.8039 - mean_squared_error: 8743969.8039 - val_loss: 8824130.6577 - val_mean_squared_error: 8824130.6577\n",
      "\n",
      "Epoch 00031: val_loss improved from 8838701.05925 to 8824130.65766, saving model to Weights-031--8824130.65766.hdf5\n",
      "Epoch 32/100\n",
      "301042/301042 [==============================] - 42s 138us/step - loss: 8735020.4222 - mean_squared_error: 8735020.4222 - val_loss: 8893623.7479 - val_mean_squared_error: 8893623.7479\n",
      "\n",
      "Epoch 00032: val_loss did not improve from 8824130.65766\n",
      "Epoch 33/100\n",
      "301042/301042 [==============================] - 30s 100us/step - loss: 8727736.4448 - mean_squared_error: 8727736.4448 - val_loss: 8819732.5924 - val_mean_squared_error: 8819732.5924\n",
      "\n",
      "Epoch 00033: val_loss improved from 8824130.65766 to 8819732.59241, saving model to Weights-033--8819732.59241.hdf5\n",
      "Epoch 34/100\n",
      "301042/301042 [==============================] - 37s 122us/step - loss: 8717133.6946 - mean_squared_error: 8717133.6946 - val_loss: 8816513.9127 - val_mean_squared_error: 8816513.9127\n",
      "\n",
      "Epoch 00034: val_loss improved from 8819732.59241 to 8816513.91266, saving model to Weights-034--8816513.91266.hdf5\n",
      "Epoch 35/100\n",
      "301042/301042 [==============================] - 28s 93us/step - loss: 8716373.6713 - mean_squared_error: 8716373.6713 - val_loss: 8804355.6388 - val_mean_squared_error: 8804355.6388\n",
      "\n",
      "Epoch 00035: val_loss improved from 8816513.91266 to 8804355.63879, saving model to Weights-035--8804355.63879.hdf5\n",
      "Epoch 36/100\n",
      "301042/301042 [==============================] - 37s 124us/step - loss: 8710554.3346 - mean_squared_error: 8710554.3346 - val_loss: 8803817.5804 - val_mean_squared_error: 8803817.5804\n",
      "\n",
      "Epoch 00036: val_loss improved from 8804355.63879 to 8803817.58041, saving model to Weights-036--8803817.58041.hdf5\n",
      "Epoch 37/100\n",
      "301042/301042 [==============================] - 33s 109us/step - loss: 8703229.1344 - mean_squared_error: 8703229.1344 - val_loss: 8791040.8187 - val_mean_squared_error: 8791040.8187\n",
      "\n",
      "Epoch 00037: val_loss improved from 8803817.58041 to 8791040.81872, saving model to Weights-037--8791040.81872.hdf5\n",
      "Epoch 38/100\n",
      "301042/301042 [==============================] - 36s 119us/step - loss: 8698809.2884 - mean_squared_error: 8698809.2884 - val_loss: 8801227.3541 - val_mean_squared_error: 8801227.3541\n",
      "\n",
      "Epoch 00038: val_loss did not improve from 8791040.81872\n",
      "Epoch 39/100\n",
      "301042/301042 [==============================] - 29s 96us/step - loss: 8695447.3900 - mean_squared_error: 8695447.3900 - val_loss: 8921389.2959 - val_mean_squared_error: 8921389.2959\n",
      "\n",
      "Epoch 00039: val_loss did not improve from 8791040.81872\n",
      "Epoch 40/100\n",
      "301042/301042 [==============================] - 29s 96us/step - loss: 8683967.5934 - mean_squared_error: 8683967.5934 - val_loss: 8830081.8916 - val_mean_squared_error: 8830081.8916\n",
      "\n",
      "Epoch 00040: val_loss did not improve from 8791040.81872\n",
      "Epoch 41/100\n",
      "301042/301042 [==============================] - 27s 90us/step - loss: 8679517.1869 - mean_squared_error: 8679517.1869 - val_loss: 8801136.2795 - val_mean_squared_error: 8801136.2795\n",
      "\n",
      "Epoch 00041: val_loss did not improve from 8791040.81872\n",
      "Epoch 42/100\n",
      "301042/301042 [==============================] - 27s 89us/step - loss: 8666824.9441 - mean_squared_error: 8666824.9441 - val_loss: 9024378.2847 - val_mean_squared_error: 9024378.2847\n",
      "\n",
      "Epoch 00042: val_loss did not improve from 8791040.81872\n",
      "Epoch 43/100\n",
      "301042/301042 [==============================] - 31s 103us/step - loss: 8665657.7404 - mean_squared_error: 8665657.7404 - val_loss: 8801666.9283 - val_mean_squared_error: 8801666.9283\n",
      "\n",
      "Epoch 00043: val_loss did not improve from 8791040.81872\n",
      "Epoch 44/100\n",
      "301042/301042 [==============================] - 30s 101us/step - loss: 8663751.7517 - mean_squared_error: 8663751.7517 - val_loss: 8794182.1313 - val_mean_squared_error: 8794182.1313\n",
      "\n",
      "Epoch 00044: val_loss did not improve from 8791040.81872\n",
      "Epoch 45/100\n",
      "301042/301042 [==============================] - 30s 99us/step - loss: 8653427.4011 - mean_squared_error: 8653427.4011 - val_loss: 8804612.6587 - val_mean_squared_error: 8804612.6587\n",
      "\n",
      "Epoch 00045: val_loss did not improve from 8791040.81872\n",
      "Epoch 46/100\n",
      "301042/301042 [==============================] - 58s 191us/step - loss: 8650733.1294 - mean_squared_error: 8650733.1294 - val_loss: 8770343.1103 - val_mean_squared_error: 8770343.1103\n",
      "\n",
      "Epoch 00046: val_loss improved from 8791040.81872 to 8770343.11032, saving model to Weights-046--8770343.11032.hdf5\n",
      "Epoch 47/100\n",
      "301042/301042 [==============================] - 48s 161us/step - loss: 8647253.1891 - mean_squared_error: 8647253.1891 - val_loss: 8784205.9586 - val_mean_squared_error: 8784205.9586\n",
      "\n",
      "Epoch 00047: val_loss did not improve from 8770343.11032\n",
      "Epoch 48/100\n",
      "301042/301042 [==============================] - 45s 149us/step - loss: 8641363.8630 - mean_squared_error: 8641363.8630 - val_loss: 8781597.0500 - val_mean_squared_error: 8781597.0500\n",
      "\n",
      "Epoch 00048: val_loss did not improve from 8770343.11032\n",
      "Epoch 49/100\n",
      "301042/301042 [==============================] - 44s 148us/step - loss: 8637533.7094 - mean_squared_error: 8637533.7094 - val_loss: 8786907.2528 - val_mean_squared_error: 8786907.2528\n",
      "\n",
      "Epoch 00049: val_loss did not improve from 8770343.11032\n",
      "Epoch 50/100\n",
      "301042/301042 [==============================] - 40s 131us/step - loss: 8633584.2286 - mean_squared_error: 8633584.2286 - val_loss: 8891263.1050 - val_mean_squared_error: 8891263.1050\n",
      "\n",
      "Epoch 00050: val_loss did not improve from 8770343.11032\n",
      "Epoch 51/100\n",
      "301042/301042 [==============================] - 45s 149us/step - loss: 8627850.8953 - mean_squared_error: 8627850.8953 - val_loss: 8779250.5493 - val_mean_squared_error: 8779250.5493\n",
      "\n",
      "Epoch 00051: val_loss did not improve from 8770343.11032\n",
      "Epoch 52/100\n",
      "301042/301042 [==============================] - 43s 143us/step - loss: 8624215.6088 - mean_squared_error: 8624215.6088 - val_loss: 8809319.5378 - val_mean_squared_error: 8809319.5378\n",
      "\n",
      "Epoch 00052: val_loss did not improve from 8770343.11032\n",
      "Epoch 53/100\n",
      "301042/301042 [==============================] - 45s 148us/step - loss: 8622647.8502 - mean_squared_error: 8622647.8502 - val_loss: 8763001.1646 - val_mean_squared_error: 8763001.1646\n",
      "\n",
      "Epoch 00053: val_loss improved from 8770343.11032 to 8763001.16463, saving model to Weights-053--8763001.16463.hdf5\n",
      "Epoch 54/100\n",
      "301042/301042 [==============================] - 41s 137us/step - loss: 8618507.8703 - mean_squared_error: 8618507.8703 - val_loss: 8776255.8545 - val_mean_squared_error: 8776255.8545\n",
      "\n",
      "Epoch 00054: val_loss did not improve from 8763001.16463\n",
      "Epoch 55/100\n",
      "301042/301042 [==============================] - 42s 140us/step - loss: 8610831.5943 - mean_squared_error: 8610831.5943 - val_loss: 8808671.0864 - val_mean_squared_error: 8808671.0864\n",
      "\n",
      "Epoch 00055: val_loss did not improve from 8763001.16463\n",
      "Epoch 56/100\n",
      "301042/301042 [==============================] - 45s 150us/step - loss: 8603989.4750 - mean_squared_error: 8603989.4750 - val_loss: 8974882.3592 - val_mean_squared_error: 8974882.3592\n",
      "\n",
      "Epoch 00056: val_loss did not improve from 8763001.16463\n",
      "Epoch 57/100\n",
      "301042/301042 [==============================] - 43s 144us/step - loss: 8604367.5472 - mean_squared_error: 8604367.5472 - val_loss: 8758181.0147 - val_mean_squared_error: 8758181.0147\n",
      "\n",
      "Epoch 00057: val_loss improved from 8763001.16463 to 8758181.01470, saving model to Weights-057--8758181.01470.hdf5\n",
      "Epoch 58/100\n",
      "301042/301042 [==============================] - 57s 189us/step - loss: 8600223.4381 - mean_squared_error: 8600223.4381 - val_loss: 8770883.6322 - val_mean_squared_error: 8770883.6322\n",
      "\n",
      "Epoch 00058: val_loss did not improve from 8758181.01470\n",
      "Epoch 59/100\n",
      "301042/301042 [==============================] - 52s 173us/step - loss: 8599575.9412 - mean_squared_error: 8599575.9412 - val_loss: 8760211.6672 - val_mean_squared_error: 8760211.6672\n",
      "\n",
      "Epoch 00059: val_loss did not improve from 8758181.01470\n",
      "Epoch 60/100\n",
      "301042/301042 [==============================] - 52s 174us/step - loss: 8590508.3916 - mean_squared_error: 8590508.3916 - val_loss: 8790777.5113 - val_mean_squared_error: 8790777.5113\n",
      "\n",
      "Epoch 00060: val_loss did not improve from 8758181.01470\n",
      "Epoch 61/100\n",
      "301042/301042 [==============================] - 48s 160us/step - loss: 8588534.5531 - mean_squared_error: 8588534.5531 - val_loss: 8780432.7385 - val_mean_squared_error: 8780432.7385\n",
      "\n",
      "Epoch 00061: val_loss did not improve from 8758181.01470\n",
      "Epoch 62/100\n",
      "301042/301042 [==============================] - 49s 162us/step - loss: 8584038.8989 - mean_squared_error: 8584038.8989 - val_loss: 8913375.6130 - val_mean_squared_error: 8913375.6130\n",
      "\n",
      "Epoch 00062: val_loss did not improve from 8758181.01470\n",
      "Epoch 63/100\n",
      "301042/301042 [==============================] - 46s 154us/step - loss: 8578404.1337 - mean_squared_error: 8578404.1337 - val_loss: 8890556.2370 - val_mean_squared_error: 8890556.2370\n",
      "\n",
      "Epoch 00063: val_loss did not improve from 8758181.01470\n",
      "Epoch 64/100\n",
      "301042/301042 [==============================] - 56s 187us/step - loss: 8573473.7481 - mean_squared_error: 8573473.7481 - val_loss: 8768939.4027 - val_mean_squared_error: 8768939.4027\n",
      "\n",
      "Epoch 00064: val_loss did not improve from 8758181.01470\n",
      "Epoch 65/100\n",
      "301042/301042 [==============================] - 55s 181us/step - loss: 8571133.6295 - mean_squared_error: 8571133.6295 - val_loss: 8782485.0020 - val_mean_squared_error: 8782485.0020\n",
      "\n",
      "Epoch 00065: val_loss did not improve from 8758181.01470\n",
      "Epoch 66/100\n",
      "301042/301042 [==============================] - 58s 193us/step - loss: 8570652.2842 - mean_squared_error: 8570652.2842 - val_loss: 8792943.6676 - val_mean_squared_error: 8792943.6676\n",
      "\n",
      "Epoch 00066: val_loss did not improve from 8758181.01470\n",
      "Epoch 67/100\n",
      "301042/301042 [==============================] - 61s 204us/step - loss: 8563748.4216 - mean_squared_error: 8563748.4216 - val_loss: 8767477.6701 - val_mean_squared_error: 8767477.6701\n",
      "\n",
      "Epoch 00067: val_loss did not improve from 8758181.01470\n",
      "Epoch 68/100\n",
      "301042/301042 [==============================] - 50s 165us/step - loss: 8560654.5933 - mean_squared_error: 8560654.5933 - val_loss: 8872667.4139 - val_mean_squared_error: 8872667.4139\n",
      "\n",
      "Epoch 00068: val_loss did not improve from 8758181.01470\n",
      "Epoch 69/100\n",
      "301042/301042 [==============================] - 45s 151us/step - loss: 8554216.2416 - mean_squared_error: 8554216.2416 - val_loss: 8807706.8340 - val_mean_squared_error: 8807706.8340\n",
      "\n",
      "Epoch 00069: val_loss did not improve from 8758181.01470\n",
      "Epoch 70/100\n",
      "301042/301042 [==============================] - 47s 158us/step - loss: 8553472.7770 - mean_squared_error: 8553472.7770 - val_loss: 8829362.8286 - val_mean_squared_error: 8829362.8286\n",
      "\n",
      "Epoch 00070: val_loss did not improve from 8758181.01470\n",
      "Epoch 71/100\n",
      "301042/301042 [==============================] - 46s 151us/step - loss: 8549362.6665 - mean_squared_error: 8549362.6665 - val_loss: 8810254.1842 - val_mean_squared_error: 8810254.1842\n",
      "\n",
      "Epoch 00071: val_loss did not improve from 8758181.01470\n",
      "Epoch 72/100\n",
      "301042/301042 [==============================] - 56s 185us/step - loss: 8545588.8296 - mean_squared_error: 8545588.8296 - val_loss: 8743159.7010 - val_mean_squared_error: 8743159.7010\n",
      "\n",
      "Epoch 00072: val_loss improved from 8758181.01470 to 8743159.70104, saving model to Weights-072--8743159.70104.hdf5\n",
      "Epoch 73/100\n",
      "301042/301042 [==============================] - 53s 174us/step - loss: 8549005.2821 - mean_squared_error: 8549005.2821 - val_loss: 8874079.4105 - val_mean_squared_error: 8874079.4105\n",
      "\n",
      "Epoch 00073: val_loss did not improve from 8743159.70104\n",
      "Epoch 74/100\n",
      "301042/301042 [==============================] - 56s 187us/step - loss: 8540178.7028 - mean_squared_error: 8540178.7028 - val_loss: 8755092.5662 - val_mean_squared_error: 8755092.5662\n",
      "\n",
      "Epoch 00074: val_loss did not improve from 8743159.70104\n",
      "Epoch 75/100\n",
      "301042/301042 [==============================] - 56s 188us/step - loss: 8539991.9832 - mean_squared_error: 8539991.9832 - val_loss: 8800835.2645 - val_mean_squared_error: 8800835.2645\n",
      "\n",
      "Epoch 00075: val_loss did not improve from 8743159.70104\n",
      "Epoch 76/100\n",
      "301042/301042 [==============================] - 54s 179us/step - loss: 8536246.1704 - mean_squared_error: 8536246.1704 - val_loss: 8748970.9592 - val_mean_squared_error: 8748970.9592\n",
      "\n",
      "Epoch 00076: val_loss did not improve from 8743159.70104\n",
      "Epoch 77/100\n",
      "301042/301042 [==============================] - 60s 199us/step - loss: 8533917.7044 - mean_squared_error: 8533917.7044 - val_loss: 8747403.0484 - val_mean_squared_error: 8747403.0484\n",
      "\n",
      "Epoch 00077: val_loss did not improve from 8743159.70104\n",
      "Epoch 78/100\n",
      "301042/301042 [==============================] - 54s 178us/step - loss: 8531096.7018 - mean_squared_error: 8531096.7018 - val_loss: 8772467.5021 - val_mean_squared_error: 8772467.5021\n",
      "\n",
      "Epoch 00078: val_loss did not improve from 8743159.70104\n",
      "Epoch 79/100\n",
      "301042/301042 [==============================] - 50s 166us/step - loss: 8524268.0739 - mean_squared_error: 8524268.0739 - val_loss: 8796621.8033 - val_mean_squared_error: 8796621.8033\n",
      "\n",
      "Epoch 00079: val_loss did not improve from 8743159.70104\n",
      "Epoch 80/100\n",
      "301042/301042 [==============================] - 44s 146us/step - loss: 8524683.7346 - mean_squared_error: 8524683.7346 - val_loss: 8738128.2708 - val_mean_squared_error: 8738128.2708\n",
      "\n",
      "Epoch 00080: val_loss improved from 8743159.70104 to 8738128.27080, saving model to Weights-080--8738128.27080.hdf5\n",
      "Epoch 81/100\n",
      "301042/301042 [==============================] - 47s 158us/step - loss: 8520825.8355 - mean_squared_error: 8520825.8355 - val_loss: 8894008.9052 - val_mean_squared_error: 8894008.9052\n",
      "\n",
      "Epoch 00081: val_loss did not improve from 8738128.27080\n",
      "Epoch 82/100\n",
      "301042/301042 [==============================] - 63s 209us/step - loss: 8515693.6165 - mean_squared_error: 8515693.6165 - val_loss: 8772595.4250 - val_mean_squared_error: 8772595.4250\n",
      "\n",
      "Epoch 00082: val_loss did not improve from 8738128.27080\n",
      "Epoch 83/100\n",
      "301042/301042 [==============================] - 52s 174us/step - loss: 8517628.6283 - mean_squared_error: 8517628.6283 - val_loss: 8787915.1589 - val_mean_squared_error: 8787915.1589\n",
      "\n",
      "Epoch 00083: val_loss did not improve from 8738128.27080\n",
      "Epoch 84/100\n",
      "301042/301042 [==============================] - 58s 192us/step - loss: 8510144.1385 - mean_squared_error: 8510144.1385 - val_loss: 8807844.1470 - val_mean_squared_error: 8807844.1470\n",
      "\n",
      "Epoch 00084: val_loss did not improve from 8738128.27080\n",
      "Epoch 85/100\n",
      "301042/301042 [==============================] - 60s 200us/step - loss: 8513134.3084 - mean_squared_error: 8513134.3084 - val_loss: 8728609.7881 - val_mean_squared_error: 8728609.7881\n",
      "\n",
      "Epoch 00085: val_loss improved from 8738128.27080 to 8728609.78814, saving model to Weights-085--8728609.78814.hdf5\n",
      "Epoch 86/100\n",
      "301042/301042 [==============================] - 56s 186us/step - loss: 8507240.5560 - mean_squared_error: 8507240.5560 - val_loss: 8801926.0911 - val_mean_squared_error: 8801926.0911\n",
      "\n",
      "Epoch 00086: val_loss did not improve from 8728609.78814\n",
      "Epoch 87/100\n",
      "301042/301042 [==============================] - 65s 215us/step - loss: 8503487.2563 - mean_squared_error: 8503487.2563 - val_loss: 8734452.3997 - val_mean_squared_error: 8734452.3997\n",
      "\n",
      "Epoch 00087: val_loss did not improve from 8728609.78814\n",
      "Epoch 88/100\n",
      "301042/301042 [==============================] - 63s 210us/step - loss: 8500280.5116 - mean_squared_error: 8500280.5116 - val_loss: 8766851.1028 - val_mean_squared_error: 8766851.1028\n",
      "\n",
      "Epoch 00088: val_loss did not improve from 8728609.78814\n",
      "Epoch 89/100\n",
      "301042/301042 [==============================] - 64s 212us/step - loss: 8503928.3640 - mean_squared_error: 8503928.3640 - val_loss: 8738817.9742 - val_mean_squared_error: 8738817.9742\n",
      "\n",
      "Epoch 00089: val_loss did not improve from 8728609.78814\n",
      "Epoch 90/100\n"
     ]
    },
    {
     "name": "stdout",
     "output_type": "stream",
     "text": [
      "301042/301042 [==============================] - 56s 185us/step - loss: 8501359.7431 - mean_squared_error: 8501359.7431 - val_loss: 8965459.1061 - val_mean_squared_error: 8965459.1061\n",
      "\n",
      "Epoch 00090: val_loss did not improve from 8728609.78814\n",
      "Epoch 91/100\n",
      "301042/301042 [==============================] - 46s 153us/step - loss: 8504653.8120 - mean_squared_error: 8504653.8120 - val_loss: 8758848.9223 - val_mean_squared_error: 8758848.9223\n",
      "\n",
      "Epoch 00091: val_loss did not improve from 8728609.78814\n",
      "Epoch 92/100\n",
      "301042/301042 [==============================] - 42s 140us/step - loss: 8496635.7473 - mean_squared_error: 8496635.7473 - val_loss: 8725230.5755 - val_mean_squared_error: 8725230.5755\n",
      "\n",
      "Epoch 00092: val_loss improved from 8728609.78814 to 8725230.57545, saving model to Weights-092--8725230.57545.hdf5\n",
      "Epoch 93/100\n",
      "301042/301042 [==============================] - 45s 149us/step - loss: 8491648.5890 - mean_squared_error: 8491648.5890 - val_loss: 8830562.6242 - val_mean_squared_error: 8830562.6242\n",
      "\n",
      "Epoch 00093: val_loss did not improve from 8725230.57545\n",
      "Epoch 94/100\n",
      "301042/301042 [==============================] - 54s 179us/step - loss: 8492709.3697 - mean_squared_error: 8492709.3697 - val_loss: 8749217.7011 - val_mean_squared_error: 8749217.7011\n",
      "\n",
      "Epoch 00094: val_loss did not improve from 8725230.57545\n",
      "Epoch 95/100\n",
      "301042/301042 [==============================] - 42s 140us/step - loss: 8486878.1515 - mean_squared_error: 8486878.1515 - val_loss: 8778071.2446 - val_mean_squared_error: 8778071.2446\n",
      "\n",
      "Epoch 00095: val_loss did not improve from 8725230.57545\n",
      "Epoch 96/100\n",
      "301042/301042 [==============================] - 48s 161us/step - loss: 8488753.0227 - mean_squared_error: 8488753.0227 - val_loss: 8766714.9323 - val_mean_squared_error: 8766714.9323\n",
      "\n",
      "Epoch 00096: val_loss did not improve from 8725230.57545\n",
      "Epoch 97/100\n",
      "301042/301042 [==============================] - 43s 143us/step - loss: 8481538.9884 - mean_squared_error: 8481538.9884 - val_loss: 8794445.6241 - val_mean_squared_error: 8794445.6241\n",
      "\n",
      "Epoch 00097: val_loss did not improve from 8725230.57545\n",
      "Epoch 98/100\n",
      "301042/301042 [==============================] - 47s 154us/step - loss: 8482473.8189 - mean_squared_error: 8482473.8189 - val_loss: 8858870.9473 - val_mean_squared_error: 8858870.9473\n",
      "\n",
      "Epoch 00098: val_loss did not improve from 8725230.57545\n",
      "Epoch 99/100\n",
      "301042/301042 [==============================] - 59s 196us/step - loss: 8480361.5525 - mean_squared_error: 8480361.5525 - val_loss: 8728841.2075 - val_mean_squared_error: 8728841.2075\n",
      "\n",
      "Epoch 00099: val_loss did not improve from 8725230.57545\n",
      "Epoch 100/100\n",
      "301042/301042 [==============================] - 63s 208us/step - loss: 8473641.1155 - mean_squared_error: 8473641.1155 - val_loss: 8755656.5881 - val_mean_squared_error: 8755656.5881\n",
      "\n",
      "Epoch 00100: val_loss did not improve from 8725230.57545\n"
     ]
    },
    {
     "data": {
      "text/plain": [
       "<keras.callbacks.History at 0x7f8bade39dd8>"
      ]
     },
     "execution_count": 39,
     "metadata": {},
     "output_type": "execute_result"
    }
   ],
   "source": [
    "NN_reg.fit(X_train, y_train, epochs=100, batch_size=32, validation_split = 0.2, callbacks=callbacks_list)"
   ]
  },
  {
   "cell_type": "markdown",
   "metadata": {},
   "source": [
    "We trained the network for 100 epoch and the final improvement over the benchmark was little. Probably with a deeper network and more epoch we could have ottained better results.\n",
    "\n",
    "From the output (epoch 92), we see that the train sample MSE  is 8496635.7473 and the validation MSE is 8725230.57545."
   ]
  },
  {
   "cell_type": "code",
   "execution_count": 124,
   "metadata": {},
   "outputs": [],
   "source": [
    "rmse_nn_val = np.sqrt(8725230.57545) #getting the root mean squared error\n",
    "rmse_nn_train = np.sqrt(8496635.7473)"
   ]
  },
  {
   "cell_type": "markdown",
   "metadata": {},
   "source": [
    "### Benchmark vs Neural Network"
   ]
  },
  {
   "cell_type": "code",
   "execution_count": 125,
   "metadata": {},
   "outputs": [
    {
     "data": {
      "text/html": [
       "<div>\n",
       "<style scoped>\n",
       "    .dataframe tbody tr th:only-of-type {\n",
       "        vertical-align: middle;\n",
       "    }\n",
       "\n",
       "    .dataframe tbody tr th {\n",
       "        vertical-align: top;\n",
       "    }\n",
       "\n",
       "    .dataframe thead th {\n",
       "        text-align: right;\n",
       "    }\n",
       "</style>\n",
       "<table border=\"1\" class=\"dataframe\">\n",
       "  <thead>\n",
       "    <tr style=\"text-align: right;\">\n",
       "      <th></th>\n",
       "      <th>Benchmark</th>\n",
       "      <th>Neural Network</th>\n",
       "    </tr>\n",
       "  </thead>\n",
       "  <tbody>\n",
       "    <tr>\n",
       "      <th>RMSE validation</th>\n",
       "      <td>3027.93</td>\n",
       "      <td>2953.85</td>\n",
       "    </tr>\n",
       "    <tr>\n",
       "      <th>RMSE train</th>\n",
       "      <td>3027.61</td>\n",
       "      <td>2914.90</td>\n",
       "    </tr>\n",
       "  </tbody>\n",
       "</table>\n",
       "</div>"
      ],
      "text/plain": [
       "                 Benchmark  Neural Network\n",
       "RMSE validation    3027.93         2953.85\n",
       "RMSE train         3027.61         2914.90"
      ]
     },
     "execution_count": 125,
     "metadata": {},
     "output_type": "execute_result"
    }
   ],
   "source": [
    "pd.DataFrame(data={'Benchmark':[round(ols_bench_cv['rmse_test'].mean(),2), round(ols_bench_cv['rmse_train'].mean(),2)],\n",
    "                   'Neural Network': [round(rmse_nn_val,2), round(rmse_nn_train,2)]}, \n",
    "             index=['RMSE validation', 'RMSE train'])"
   ]
  },
  {
   "cell_type": "code",
   "execution_count": null,
   "metadata": {},
   "outputs": [],
   "source": []
  },
  {
   "cell_type": "markdown",
   "metadata": {},
   "source": [
    "## Final Comparison"
   ]
  },
  {
   "cell_type": "code",
   "execution_count": 126,
   "metadata": {},
   "outputs": [
    {
     "data": {
      "text/html": [
       "<div>\n",
       "<style scoped>\n",
       "    .dataframe tbody tr th:only-of-type {\n",
       "        vertical-align: middle;\n",
       "    }\n",
       "\n",
       "    .dataframe tbody tr th {\n",
       "        vertical-align: top;\n",
       "    }\n",
       "\n",
       "    .dataframe thead th {\n",
       "        text-align: right;\n",
       "    }\n",
       "</style>\n",
       "<table border=\"1\" class=\"dataframe\">\n",
       "  <thead>\n",
       "    <tr style=\"text-align: right;\">\n",
       "      <th></th>\n",
       "      <th>Benchmark</th>\n",
       "      <th>Ridge - 1</th>\n",
       "      <th>Ridge - 10</th>\n",
       "      <th>Lasso - 0.01</th>\n",
       "      <th>Lasso - 1</th>\n",
       "      <th>Forest 1</th>\n",
       "      <th>Forest 2</th>\n",
       "      <th>Forest 3</th>\n",
       "      <th>Neural Network</th>\n",
       "    </tr>\n",
       "  </thead>\n",
       "  <tbody>\n",
       "    <tr>\n",
       "      <th>RMSE validation</th>\n",
       "      <td>3027.93</td>\n",
       "      <td>3027.93</td>\n",
       "      <td>3027.94</td>\n",
       "      <td>3027.93</td>\n",
       "      <td>3028.72</td>\n",
       "      <td>2964.70</td>\n",
       "      <td>3026.21</td>\n",
       "      <td>2963.52</td>\n",
       "      <td>2953.85</td>\n",
       "    </tr>\n",
       "    <tr>\n",
       "      <th>RMSE train</th>\n",
       "      <td>3027.61</td>\n",
       "      <td>3027.61</td>\n",
       "      <td>3027.62</td>\n",
       "      <td>3027.61</td>\n",
       "      <td>3028.44</td>\n",
       "      <td>2774.18</td>\n",
       "      <td>2977.00</td>\n",
       "      <td>2773.22</td>\n",
       "      <td>2914.90</td>\n",
       "    </tr>\n",
       "  </tbody>\n",
       "</table>\n",
       "</div>"
      ],
      "text/plain": [
       "                 Benchmark  Ridge - 1  Ridge - 10  Lasso - 0.01  Lasso - 1  \\\n",
       "RMSE validation    3027.93    3027.93     3027.94       3027.93    3028.72   \n",
       "RMSE train         3027.61    3027.61     3027.62       3027.61    3028.44   \n",
       "\n",
       "                 Forest 1  Forest 2  Forest 3  Neural Network  \n",
       "RMSE validation   2964.70   3026.21   2963.52         2953.85  \n",
       "RMSE train        2774.18   2977.00   2773.22         2914.90  "
      ]
     },
     "execution_count": 126,
     "metadata": {},
     "output_type": "execute_result"
    }
   ],
   "source": [
    "pd.DataFrame(data={'Benchmark':[round(ols_bench_cv['rmse_test'].mean(),2), round(ols_bench_cv['rmse_train'].mean(),2)],\n",
    "                   'Ridge - 1': [round(ridge_cv1['rmse_test'].mean(),2), round(ridge_cv1['rmse_train'].mean(),2)], \n",
    "                   'Ridge - 10': [round(ridge_cv2['rmse_test'].mean(),2), round(ridge_cv2['rmse_train'].mean(),2)], \n",
    "                   'Lasso - 0.01': [round(lasso_cv1['rmse_test'].mean(),2), round(lasso_cv1['rmse_train'].mean(),2)], \n",
    "                   'Lasso - 1': [round(lasso_cv2['rmse_test'].mean(),2), round(lasso_cv2['rmse_train'].mean(),2)],\n",
    "                   'Forest 1': [round(forest1_cv['rmse_test'].mean(),2), round(forest1_cv['rmse_train'].mean(),2)], \n",
    "                   'Forest 2': [round(forest2_cv['rmse_test'].mean(),2), round(forest2_cv['rmse_train'].mean(),2)], \n",
    "                   'Forest 3': [round(forest3_cv['rmse_test'].mean(),2), round(forest3_cv['rmse_train'].mean(),2)],\n",
    "                   'Neural Network': [round(rmse_nn_val,2), round(rmse_nn_train,2)]}, \n",
    "             index=['RMSE validation', 'RMSE train'])"
   ]
  },
  {
   "cell_type": "markdown",
   "metadata": {},
   "source": [
    "The neural network model has the best RMSE on validation and does not overfit as much as Forest 3. Therefore, it is our best model."
   ]
  },
  {
   "cell_type": "markdown",
   "metadata": {},
   "source": [
    "## Testing"
   ]
  },
  {
   "cell_type": "markdown",
   "metadata": {},
   "source": [
    "We load the optimal neural network model weights, the ones from epoch 92. We will use this trained model to predict on the test sample."
   ]
  },
  {
   "cell_type": "code",
   "execution_count": 116,
   "metadata": {},
   "outputs": [],
   "source": [
    "weights_file = 'Weights-092--8725230.57545.hdf5' # choose the best checkpoint \n",
    "NN_reg.load_weights(weights_file) # load it\n",
    "NN_reg.compile(loss='mean_squared_error', optimizer='adam', metrics=['mean_squared_error'])"
   ]
  },
  {
   "cell_type": "code",
   "execution_count": 127,
   "metadata": {},
   "outputs": [],
   "source": [
    "pred = NN_reg.predict(X_test)"
   ]
  },
  {
   "cell_type": "code",
   "execution_count": 128,
   "metadata": {},
   "outputs": [
    {
     "name": "stdout",
     "output_type": "stream",
     "text": [
      "Neural Network RMSE on the test sample:  2945.14\n"
     ]
    }
   ],
   "source": [
    "rmse_test_nn = np.sqrt(mean_squared_error(y_test, pred))\n",
    "print('Neural Network RMSE on the test sample: ', round(rmse_test_nn,2))"
   ]
  },
  {
   "cell_type": "markdown",
   "metadata": {},
   "source": [
    "Not bad!"
   ]
  },
  {
   "cell_type": "markdown",
   "metadata": {},
   "source": [
    "# Classification"
   ]
  },
  {
   "cell_type": "markdown",
   "metadata": {},
   "source": [
    "The BlackFriday dataset could also be used for a classification problem: given the amount purchased and the characteristics of the customers, which category of product (Product_Category_1) will they buy?"
   ]
  },
  {
   "cell_type": "code",
   "execution_count": 131,
   "metadata": {},
   "outputs": [
    {
     "data": {
      "text/plain": [
       "5     0.28\n",
       "1     0.26\n",
       "8     0.21\n",
       "11    0.04\n",
       "2     0.04\n",
       "6     0.04\n",
       "3     0.04\n",
       "4     0.02\n",
       "16    0.02\n",
       "15    0.01\n",
       "13    0.01\n",
       "10    0.01\n",
       "12    0.01\n",
       "7     0.01\n",
       "18    0.01\n",
       "14    0.00\n",
       "17    0.00\n",
       "9     0.00\n",
       "Name: Product_Category_1, dtype: float64"
      ]
     },
     "execution_count": 131,
     "metadata": {},
     "output_type": "execute_result"
    }
   ],
   "source": [
    "bf['Product_Category_1'].value_counts(normalize=True).round(2)"
   ]
  },
  {
   "cell_type": "markdown",
   "metadata": {},
   "source": [
    "As it can be seen from above, the classes are unbalanced. Before proceeding with the training, we should rebalance them using oversampling (i.e. SMOTE) or undersampling techniques (i.e. TomekLinks). However, due to the dimension of the data, the amount of time to run either of those is very high and we did not manage to do it. Nevertheless, we decided to attemp the classification anyways. Therefore, we will only look at overall accuracy when comparing the models."
   ]
  },
  {
   "cell_type": "markdown",
   "metadata": {},
   "source": [
    "## Data pre-processing"
   ]
  },
  {
   "cell_type": "markdown",
   "metadata": {},
   "source": [
    "We import the encoder for our target variable and the scaler because now we have a features matrix of 0s and 1s plus Purchase, which has a huge range, compared to the rest. "
   ]
  },
  {
   "cell_type": "code",
   "execution_count": 132,
   "metadata": {},
   "outputs": [],
   "source": [
    "from sklearn.preprocessing import LabelEncoder\n",
    "from sklearn.preprocessing import StandardScaler"
   ]
  },
  {
   "cell_type": "code",
   "execution_count": 133,
   "metadata": {},
   "outputs": [],
   "source": [
    "le = LabelEncoder()\n",
    "stsc = StandardScaler()"
   ]
  },
  {
   "cell_type": "code",
   "execution_count": 134,
   "metadata": {},
   "outputs": [],
   "source": [
    "bf_clf = bf.drop(columns=['User_ID', 'Product_ID', 'Product_Category_2', 'Product_Category_3'])"
   ]
  },
  {
   "cell_type": "code",
   "execution_count": 135,
   "metadata": {},
   "outputs": [],
   "source": [
    "X = bf_clf.drop(columns='Product_Category_1')\n",
    "y = le.fit_transform(bf_clf['Product_Category_1'])"
   ]
  },
  {
   "cell_type": "code",
   "execution_count": 136,
   "metadata": {},
   "outputs": [],
   "source": [
    "X = pd.get_dummies(X, drop_first='True')\n",
    "X = stsc.fit_transform(X)"
   ]
  },
  {
   "cell_type": "code",
   "execution_count": 137,
   "metadata": {},
   "outputs": [],
   "source": [
    "X_train, X_test, y_train, y_test = train_test_split(X, y, test_size=0.3, random_state=11)"
   ]
  },
  {
   "cell_type": "markdown",
   "metadata": {},
   "source": [
    "## Random Forests - ExtraTreesClassifier"
   ]
  },
  {
   "cell_type": "markdown",
   "metadata": {},
   "source": [
    "As for regression, we build a cross-validation function and use it on extra trees classifier."
   ]
  },
  {
   "cell_type": "code",
   "execution_count": 138,
   "metadata": {},
   "outputs": [],
   "source": [
    "from sklearn.metrics import accuracy_score"
   ]
  },
  {
   "cell_type": "code",
   "execution_count": 145,
   "metadata": {},
   "outputs": [],
   "source": [
    "def clf_kfold_cv(model, X_train, y_train, cv=50):\n",
    "    \"\"\"\n",
    "    Creates the interactions variable between two features and performs a regression for each pair\n",
    "    \n",
    "    Parameters\n",
    "    ----------\n",
    "    \n",
    "    model: \n",
    "        initilized object of the model to train\n",
    "    X_train: pandas.core.frame.DataFrame\n",
    "        train dataset containing the variables to interact\n",
    "    y_train: pandas.core.series.Series\n",
    "        train dataset containing the target variable\n",
    "    cv: int\n",
    "        number of cross-validation splits to perform. Deafult value is 50.\n",
    "        \n",
    "    Returns\n",
    "    ----------\n",
    "    \n",
    "    cv_df: pandas.core.frame.DataFrame\n",
    "        dataframe with the results of the regression\n",
    "    \"\"\"\n",
    "    \n",
    "    l_acc_test=[]\n",
    "    l_acc_train=[]\n",
    "    \n",
    "    kf=KFold(cv, random_state=11)\n",
    "    for train, test in kf.split(X_train, y_train): #this is the loop for iterating across the kfold splits\n",
    "        model.fit(X_train[train], y_train[train])\n",
    "        pred=model.predict(X_train[test])\n",
    "        pred_tr=model.predict(X_train[train])\n",
    "        acc_test = accuracy_score(y_train[test],pred) #computing the accuracy on the test\n",
    "        acc_train = accuracy_score(y_train[train],pred_tr) #computing the accuracy on the train\n",
    "        l_acc_test.append(acc_test)\n",
    "        l_acc_train.append(acc_train)\n",
    "\n",
    "    entries = [l_acc_test, l_acc_train]\n",
    "    cv_df = pd.DataFrame(entries).T \n",
    "    cv_df.columns = ['acc_score_test', 'acc_score_train']\n",
    "    return cv_df"
   ]
  },
  {
   "cell_type": "code",
   "execution_count": 146,
   "metadata": {},
   "outputs": [],
   "source": [
    "from sklearn.ensemble import ExtraTreesClassifier"
   ]
  },
  {
   "cell_type": "code",
   "execution_count": 160,
   "metadata": {},
   "outputs": [],
   "source": [
    "clf_forest1 = ExtraTreesClassifier(n_estimators=50, max_depth=50, max_features='sqrt',random_state=13, bootstrap=True)\n",
    "clf_forest2 = ExtraTreesClassifier(n_estimators=100, max_depth=20,  max_features='sqrt',random_state=13, bootstrap=True)\n",
    "clf_forest3 = ExtraTreesClassifier(n_estimators=30, max_depth=50,  max_features='sqrt',random_state=13, bootstrap=True)"
   ]
  },
  {
   "cell_type": "markdown",
   "metadata": {},
   "source": [
    "### Forest 1"
   ]
  },
  {
   "cell_type": "code",
   "execution_count": 150,
   "metadata": {},
   "outputs": [],
   "source": [
    "forest1_cv_clf = clf_kfold_cv(clf_forest1, X_train, y_train, cv=20)"
   ]
  },
  {
   "cell_type": "code",
   "execution_count": 151,
   "metadata": {},
   "outputs": [
    {
     "name": "stdout",
     "output_type": "stream",
     "text": [
      "Accuracy on validation sample:  0.8\n",
      "Accuracy on train sample:  0.99\n"
     ]
    }
   ],
   "source": [
    "print('Accuracy on validation sample: ', round(forest1_cv_clf['acc_score_test'].mean(),2))\n",
    "print('Accuracy on train sample: ', round(forest1_cv_clf['acc_score_train'].mean(),2))"
   ]
  },
  {
   "cell_type": "markdown",
   "metadata": {},
   "source": [
    "There is clearly overfitting. However, 0.8 is not that bad. Still, we cannot trust this value too much, since our classes are unbalanced. We have ot saved data on each class accuracy, precision and recall, so we cannot see them. But, we will look at them at the end, when we perform the test."
   ]
  },
  {
   "cell_type": "markdown",
   "metadata": {},
   "source": [
    "### Forest 2"
   ]
  },
  {
   "cell_type": "code",
   "execution_count": 152,
   "metadata": {},
   "outputs": [],
   "source": [
    "forest2_cv_clf = clf_kfold_cv(clf_forest2, X_train, y_train, cv=20)"
   ]
  },
  {
   "cell_type": "code",
   "execution_count": 153,
   "metadata": {},
   "outputs": [
    {
     "name": "stdout",
     "output_type": "stream",
     "text": [
      "Accuracy on validation sample:  0.72\n",
      "Accuracy on train sample:  0.79\n"
     ]
    }
   ],
   "source": [
    "print('Accuracy on validation sample: ', round(forest2_cv_clf['acc_score_test'].mean(),2))\n",
    "print('Accuracy on train sample: ', round(forest2_cv_clf['acc_score_train'].mean(),2))"
   ]
  },
  {
   "cell_type": "markdown",
   "metadata": {},
   "source": [
    "This model has lower accuracy than forest 1. Again, the depth hyper-parameter seem to matter a lot. In fact, even if we increased the number of trees (which should have led to overfitting), reducing the max_depth restrained the model a lot."
   ]
  },
  {
   "cell_type": "markdown",
   "metadata": {},
   "source": [
    "### Forest 3"
   ]
  },
  {
   "cell_type": "code",
   "execution_count": 161,
   "metadata": {},
   "outputs": [],
   "source": [
    "forest3_cv_clf = clf_kfold_cv(clf_forest3, X_train, y_train, cv=20)"
   ]
  },
  {
   "cell_type": "code",
   "execution_count": 162,
   "metadata": {},
   "outputs": [
    {
     "name": "stdout",
     "output_type": "stream",
     "text": [
      "Accuracy on validation sample:  0.8\n",
      "Accuracy on train sample:  0.99\n"
     ]
    }
   ],
   "source": [
    "print('Accuracy on validation sample: ', round(forest3_cv_clf['acc_score_test'].mean(),2))\n",
    "print('Accuracy on train sample: ', round(forest3_cv_clf['acc_score_train'].mean(),2))"
   ]
  },
  {
   "cell_type": "markdown",
   "metadata": {},
   "source": [
    "This last forest has low trees and higher depth. Depth increases accuracy but generates overfitting."
   ]
  },
  {
   "cell_type": "markdown",
   "metadata": {},
   "source": [
    "## Final Comparison"
   ]
  },
  {
   "cell_type": "code",
   "execution_count": 163,
   "metadata": {},
   "outputs": [
    {
     "data": {
      "text/html": [
       "<div>\n",
       "<style scoped>\n",
       "    .dataframe tbody tr th:only-of-type {\n",
       "        vertical-align: middle;\n",
       "    }\n",
       "\n",
       "    .dataframe tbody tr th {\n",
       "        vertical-align: top;\n",
       "    }\n",
       "\n",
       "    .dataframe thead th {\n",
       "        text-align: right;\n",
       "    }\n",
       "</style>\n",
       "<table border=\"1\" class=\"dataframe\">\n",
       "  <thead>\n",
       "    <tr style=\"text-align: right;\">\n",
       "      <th></th>\n",
       "      <th>Forest 1</th>\n",
       "      <th>Forest 2</th>\n",
       "      <th>Forest 3</th>\n",
       "    </tr>\n",
       "  </thead>\n",
       "  <tbody>\n",
       "    <tr>\n",
       "      <th>RMSE validation</th>\n",
       "      <td>0.80</td>\n",
       "      <td>0.72</td>\n",
       "      <td>0.80</td>\n",
       "    </tr>\n",
       "    <tr>\n",
       "      <th>RMSE train</th>\n",
       "      <td>0.99</td>\n",
       "      <td>0.79</td>\n",
       "      <td>0.99</td>\n",
       "    </tr>\n",
       "  </tbody>\n",
       "</table>\n",
       "</div>"
      ],
      "text/plain": [
       "                 Forest 1  Forest 2  Forest 3\n",
       "RMSE validation      0.80      0.72      0.80\n",
       "RMSE train           0.99      0.79      0.99"
      ]
     },
     "execution_count": 163,
     "metadata": {},
     "output_type": "execute_result"
    }
   ],
   "source": [
    "pd.DataFrame(data={'Forest 1': [round(forest1_cv_clf['acc_score_test'].mean(),2), round(forest1_cv_clf['acc_score_train'].mean(),2)], \n",
    "                   'Forest 2': [round(forest2_cv_clf['acc_score_test'].mean(),2), round(forest2_cv_clf['acc_score_train'].mean(),2)], \n",
    "                   'Forest 3': [round(forest3_cv_clf['acc_score_test'].mean(),2), round(forest3_cv_clf['acc_score_train'].mean(),2)]}, \n",
    "             index=['RMSE validation', 'RMSE train'])"
   ]
  },
  {
   "cell_type": "markdown",
   "metadata": {},
   "source": [
    "The best model, in our opinion is forest 2. Even if it has lower accuracy, it overfits less."
   ]
  },
  {
   "cell_type": "markdown",
   "metadata": {},
   "source": [
    "## Testing"
   ]
  },
  {
   "cell_type": "markdown",
   "metadata": {},
   "source": [
    "We train the best model on the whole train sample and use the test sample to measure its final generalization error."
   ]
  },
  {
   "cell_type": "code",
   "execution_count": 164,
   "metadata": {},
   "outputs": [],
   "source": [
    "from sklearn.metrics import classification_report"
   ]
  },
  {
   "cell_type": "code",
   "execution_count": 167,
   "metadata": {},
   "outputs": [
    {
     "data": {
      "text/plain": [
       "ExtraTreesClassifier(bootstrap=True, class_weight=None, criterion='gini',\n",
       "           max_depth=20, max_features='sqrt', max_leaf_nodes=None,\n",
       "           min_impurity_decrease=0.0, min_impurity_split=None,\n",
       "           min_samples_leaf=1, min_samples_split=2,\n",
       "           min_weight_fraction_leaf=0.0, n_estimators=100, n_jobs=None,\n",
       "           oob_score=False, random_state=13, verbose=0, warm_start=False)"
      ]
     },
     "execution_count": 167,
     "metadata": {},
     "output_type": "execute_result"
    }
   ],
   "source": [
    "clf_forest2.fit(X_train, y_train)"
   ]
  },
  {
   "cell_type": "code",
   "execution_count": 168,
   "metadata": {},
   "outputs": [],
   "source": [
    "pred_clf = clf_forest2.predict(X_test)"
   ]
  },
  {
   "cell_type": "code",
   "execution_count": 171,
   "metadata": {},
   "outputs": [
    {
     "data": {
      "text/plain": [
       "0.73"
      ]
     },
     "execution_count": 171,
     "metadata": {},
     "output_type": "execute_result"
    }
   ],
   "source": [
    "accuracy_score(y_test, pred_clf).round(2)"
   ]
  },
  {
   "cell_type": "markdown",
   "metadata": {},
   "source": [
    "As we said at the beginning, the data are unbalanced. Indeed, looking at the classification report, we can see how different is the performance among the classes, depending on whether they had more or less observations. This is why it's important to rebalance the sample."
   ]
  },
  {
   "cell_type": "code",
   "execution_count": 169,
   "metadata": {},
   "outputs": [
    {
     "name": "stdout",
     "output_type": "stream",
     "text": [
      "              precision    recall  f1-score   support\n",
      "\n",
      "           0       0.72      0.85      0.78     41588\n",
      "           1       0.66      0.17      0.26      6925\n",
      "           2       0.86      0.30      0.45      5905\n",
      "           3       0.70      0.41      0.51      3514\n",
      "           4       0.72      0.99      0.83     44492\n",
      "           5       0.59      0.19      0.29      6059\n",
      "           6       0.38      0.09      0.15      1095\n",
      "           7       0.77      0.82      0.79     33699\n",
      "           8       0.00      0.00      0.00       120\n",
      "           9       0.93      0.48      0.64      1497\n",
      "          10       0.76      0.27      0.40      7250\n",
      "          11       0.69      0.43      0.53      1209\n",
      "          12       0.78      0.89      0.83      1566\n",
      "          13       0.19      0.01      0.02       451\n",
      "          14       0.63      0.13      0.21      1879\n",
      "          15       0.31      0.05      0.09      2973\n",
      "          16       0.33      0.03      0.06       151\n",
      "          17       0.62      0.16      0.26       901\n",
      "\n",
      "   micro avg       0.73      0.73      0.73    161274\n",
      "   macro avg       0.59      0.35      0.39    161274\n",
      "weighted avg       0.72      0.73      0.69    161274\n",
      "\n"
     ]
    }
   ],
   "source": [
    "print(classification_report(y_test, pred_clf))"
   ]
  }
 ],
 "metadata": {
  "kernelspec": {
   "display_name": "Python 3",
   "language": "python",
   "name": "python3"
  },
  "language_info": {
   "codemirror_mode": {
    "name": "ipython",
    "version": 3
   },
   "file_extension": ".py",
   "mimetype": "text/x-python",
   "name": "python",
   "nbconvert_exporter": "python",
   "pygments_lexer": "ipython3",
   "version": "3.7.1"
  }
 },
 "nbformat": 4,
 "nbformat_minor": 2
}
